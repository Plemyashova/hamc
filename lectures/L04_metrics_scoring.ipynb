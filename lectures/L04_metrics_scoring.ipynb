{
 "cells": [
  {
   "attachments": {},
   "cell_type": "markdown",
   "metadata": {},
   "source": [
    "## Metrics and models' selection approaches\n",
    "\n",
    "https://stats.stackexchange.com/questions/577/is-there-any-reason-to-prefer-the-aic-or-bic-over-the-other\n",
    "\n",
    "https://www.stats.ox.ac.uk/~ripley/Nelder80.pdf\n",
    "\n",
    "https://towardsdatascience.com/20-popular-machine-learning-metrics-part-2-ranking-statistical-metrics-22c3e5a937b6\n",
    "\n",
    "\n",
    "\n",
    "price for training DL models"
   ]
  },
  {
   "attachments": {},
   "cell_type": "markdown",
   "metadata": {},
   "source": [
    "\n",
    "Akaike information Criterion\n",
    "Corrected Akaike information Criterion\n",
    "Hannan-Quinn Information Criterion (HQIC)\n",
    "Bayesian Information Criterion (BIC):\n",
    "\n",
    "https://medium.com/geekculture/model-selection-techniques-parsimony-goodness-of-fit-fc2f1863ccfd\n",
    "\n"
   ]
  }
 ],
 "metadata": {
  "kernelspec": {
   "display_name": "Python 3",
   "language": "python",
   "name": "python3"
  },
  "language_info": {
   "name": "python",
   "version": "3.8.10"
  },
  "orig_nbformat": 4,
  "vscode": {
   "interpreter": {
    "hash": "916dbcbb3f70747c44a77c7bcd40155683ae19c65e1c03b4aa3499c5328201f1"
   }
  }
 },
 "nbformat": 4,
 "nbformat_minor": 2
}
