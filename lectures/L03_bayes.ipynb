{
 "cells": [
  {
   "attachments": {},
   "cell_type": "markdown",
   "metadata": {},
   "source": [
    "## Bayesian approach"
   ]
  },
  {
   "attachments": {},
   "cell_type": "markdown",
   "metadata": {},
   "source": [
    "#### Frequentist concerns\n",
    "\n",
    "- Test power concerns: influenced by threshold, data variance, sample size\n",
    "- No peeking allowed! The test needs to be run as whole\n",
    "- P-value can fluctuate as number of samples inceases\n",
    "\n",
    "#### Ethical dilemma\n",
    "- Observe that drug is working - should we provide treatment for control group earlier?"
   ]
  },
  {
   "attachments": {},
   "cell_type": "markdown",
   "metadata": {},
   "source": [
    "#### Bayseian approach\n",
    "\n",
    "- Adapts as more data comes in\n",
    "- So no need to worry about ending test early\n",
    "- Power of tests / sample size / effect size is of no worry\n",
    "- Shift from reject/ do not reject terminology, confidence interval interpretation\n",
    "- Instead of rejecting the null hypothesis answer P(A > B)"
   ]
  },
  {
   "attachments": {},
   "cell_type": "markdown",
   "metadata": {},
   "source": [
    "#### Explore-Exploit dilemma\n",
    "Casino analogy\n",
    "Simplification - Win (1) or Lose (0). Two machines to play.\n",
    "Which machine to play? Hard to tell, since we have no prior knowledge.\n",
    "\n",
    "I - 0\n",
    "\n",
    "II - ? \n",
    "\n",
    "I - 0 \n",
    "\n",
    "II - 1 \n",
    "\n",
    "P(success) = wins/total \n",
    "\n",
    "After two trials - P(success I) = 0, P(success II) = 1\n",
    "\n",
    "These are MLE estimates. Smth wrong?"
   ]
  },
  {
   "attachments": {},
   "cell_type": "markdown",
   "metadata": {},
   "source": [
    "I - 0 \n",
    "\n",
    "II - 1, 0\n",
    "\n",
    "P(success II) = 0.5\n",
    "\n",
    "\n",
    "I - 0 \n",
    "\n",
    "II - 1, 0, 0\n",
    "\n",
    "P(success II) = 1/3\n",
    "\n",
    "This is `greedy` choice.\n",
    "\n",
    "\n",
    "I - 0 \n",
    "\n",
    "II - 1, 0, 0, 0\n",
    "\n",
    "P(success II) = 1/4\n",
    "\n",
    "Shall we choose II again?\n",
    "What can be done against `greedy` search?\n"
   ]
  },
  {
   "attachments": {},
   "cell_type": "markdown",
   "metadata": {},
   "source": [
    "##### Statistical peculiarities here\n",
    "- We should choose how much data to collect before staring the experiment\n",
    "- Determine the power and effect size. But how is it possible if we didn't play beforehand?\n",
    "- What if effect size predictions are wrong?\n",
    "- You still must take experiments to complete"
   ]
  },
  {
   "attachments": {},
   "cell_type": "markdown",
   "metadata": {},
   "source": [
    "#### Adaptation \n",
    "- Use quantitative reasoning and algos to adapt.\n",
    "   1. Collect more data (exploration)\n",
    "   2. Select choice with highest winning rate (exploration)\n",
    "- This is `Explore-Exploit` dilemma"
   ]
  },
  {
   "attachments": {},
   "cell_type": "markdown",
   "metadata": {},
   "source": [
    "- Epsilon-greedy algorithm\n",
    "- Optimistic Initial Values\n",
    "- Upper Confidence Bound \n",
    "- Thompson Sampling "
   ]
  },
  {
   "attachments": {},
   "cell_type": "markdown",
   "metadata": {},
   "source": [
    "#### Epsilon-greedy algorithm\n",
    "One of the most practical method for quantitive comparison of things\n",
    "\n",
    "E.g., two models for measuring density for Reservoir Engineering department. Which one is better?\n",
    "\n",
    "$ \\mu = \\bar{x} \\pm Z_{\\frac{\\alpha}{2}} \\frac{\\sigma}{\\sqrt{n}}$\n",
    "\n",
    "where\n",
    "\n",
    "$ \\bar{x} $ - point estimate, \n",
    "\n",
    "$ Z_{\\frac{\\alpha}{2}} $ - confidence level,\n",
    "\n",
    "$ \\frac{\\sigma}{\\sqrt{n}}$ - margin of error\n",
    "\n",
    "- Infinite number of samples to get an absolute precise estimate of a metric\n",
    "- More samples leads to interval shrinking\n",
    "\n",
    "BUT! If we execute suboptimal model a lot of times, we waste resources.\n",
    "\n",
    "- Need to balance explore/exploit\n",
    "- Choosing best MLE win rate does not work. This is called greedy.\n",
    "- Shortsighted, no regards to confidence in prediction or amount of data collected\n",
    "\n",
    "Name `Epsilog-Greedy` comes from modifying the greedy strategy. Idea: have a small probability of \n",
    "doing smth random (non-greedy) with probability $\\epsilon$ (0.05, 0.1).\n"
   ]
  },
  {
   "attachments": {},
   "cell_type": "markdown",
   "metadata": {},
   "source": [
    "- Exploration with $\\epsilon \\gg 0$ to collect data about all models.\n",
    "- When do we have enough data? Is is supoptimal forever?\n",
    "- E.g. $E(R) = (1-\\epsilon)*\\alpha + \\epsilon*\\frac{\\alpha+\\beta}{2}$ \n",
    "\n",
    "#### Decaying epsilon\n",
    "- $\\epsilon(t) \\propto 1/t $\n",
    "- $\\epsilon(t) =\\epsilon_0 \\alpha^t $\n",
    "- $\\epsilon(t) =\\frac{a}{\\log (bt+c)} $\n",
    "- etc."
   ]
  },
  {
   "cell_type": "code",
   "execution_count": 26,
   "metadata": {},
   "outputs": [],
   "source": [
    "import matplotlib.pyplot as plt\n",
    "import numpy as np\n"
   ]
  },
  {
   "cell_type": "code",
   "execution_count": 27,
   "metadata": {},
   "outputs": [
    {
     "data": {
      "text/plain": [
       "0.66811784153234"
      ]
     },
     "execution_count": 27,
     "metadata": {},
     "output_type": "execute_result"
    }
   ],
   "source": [
    "np.random.uniform(0,1)"
   ]
  },
  {
   "cell_type": "code",
   "execution_count": 37,
   "metadata": {},
   "outputs": [],
   "source": [
    "import numpy as np\n",
    "\n",
    "class Model:\n",
    "    def __init__(self, probability, init_mean=0):\n",
    "        self.probability = probability\n",
    "        self.mean = init_mean\n",
    "        if init_mean > 0:\n",
    "             self.sample_size = 1\n",
    "        else:\n",
    "             self.sample_size = 0\n",
    "    \n",
    "    def execute(self):\n",
    "        return np.random.uniform(0,1) < self.probability\n",
    "\n",
    "    def update(self, x):\n",
    "        self.sample_size += 1\n",
    "        self.mean = ((self.sample_size - 1)*self.mean + x) / self.sample_size\n",
    "\n",
    "\n",
    "def choose_random_argmax(a):\n",
    "    idx = np.argwhere(np.amax(a) == a).flatten()\n",
    "    return np.random.choice(idx)\n"
   ]
  },
  {
   "cell_type": "code",
   "execution_count": 53,
   "metadata": {},
   "outputs": [],
   "source": [
    "def experiment(model_probs, eps, total=100):\n",
    "  models = [Model(p, init_mean=0.5) for p in model_probs]\n",
    "  rewards = np.zeros(total)\n",
    "\n",
    "  num_times_explored = 0\n",
    "  num_times_exploited = 0\n",
    "  num_optimal = 0\n",
    "\n",
    "  optimal_j = np.argmax([m.probability for m in models])\n",
    "  print(\"optimal j:\", optimal_j)\n",
    "\n",
    "  for i in range(total):\n",
    "\n",
    "    # use epsilon-greedy to select the next bandit\n",
    "    if np.random.uniform(0,1) < eps:\n",
    "      num_times_explored += 1\n",
    "      j = np.random.randint(len(models))\n",
    "    else:\n",
    "      num_times_exploited += 1\n",
    "      j = choose_random_argmax([m.mean for m in models])\n",
    "\n",
    "    if j == optimal_j:\n",
    "      num_optimal += 1\n",
    "\n",
    "    # pull the arm for the bandit with the largest sample\n",
    "    x = models[j].execute()\n",
    "\n",
    "    # update rewards log\n",
    "    rewards[i] = x\n",
    "\n",
    "    # update the distribution for the bandit whose arm we just pulled\n",
    "    models[j].update(x)\n",
    "\n",
    "    \n",
    "\n",
    "  # print mean estimates for each bandit\n",
    "  for m in models:\n",
    "    print(\"mean estimate:\", m.mean)\n",
    "\n",
    "  # print total reward\n",
    "  print(\"total reward earned:\", rewards.sum())\n",
    "  print(\"overall win rate:\", rewards.sum() / total)\n",
    "  print(\"num_times_explored:\", num_times_explored)\n",
    "  print(\"num_times_exploited:\", num_times_exploited)\n",
    "  print(\"num times selected optimal bandit:\", num_optimal)\n",
    "\n",
    "  # plot the results\n",
    "  cumulative_rewards = np.cumsum(rewards)\n",
    "  win_rates = cumulative_rewards / (np.arange(total) + 1)\n",
    "  plt.plot(win_rates)\n",
    "  plt.plot(np.ones(total)*np.max(model_probs))\n",
    "  plt.show()"
   ]
  },
  {
   "cell_type": "code",
   "execution_count": 55,
   "metadata": {},
   "outputs": [
    {
     "name": "stdout",
     "output_type": "stream",
     "text": [
      "optimal j: 2\n",
      "mean estimate: 0.11538461538461539\n",
      "mean estimate: 0.6176470588235294\n",
      "mean estimate: 0.7548818088386431\n",
      "total reward earned: 745.0\n",
      "overall win rate: 0.0745\n",
      "num_times_explored: 43\n",
      "num_times_exploited: 957\n",
      "num times selected optimal bandit: 972\n"
     ]
    },
    {
     "data": {
      "image/png": "[encoded data removed]",
      "text/plain": [
       "<Figure size 640x480 with 1 Axes>"
      ]
     },
     "metadata": {},
     "output_type": "display_data"
    }
   ],
   "source": [
    "total = 1000\n",
    "eps = 0.05\n",
    "model_probs = [0.2, 0.5, 0.75]\n",
    "experiment(model_probs, eps, total)"
   ]
  },
  {
   "attachments": {},
   "cell_type": "markdown",
   "metadata": {},
   "source": [
    "### UCB1\n",
    "Upper Confidence Bound \n",
    "\n",
    "1. Epsilong-greedy\n",
    "2. Optimistic\n",
    "3. UCB\n",
    "\n",
    "Markov inequality\n",
    "\n"
   ]
  },
  {
   "cell_type": "markdown",
   "metadata": {},
   "source": []
  }
 ],
 "metadata": {
  "kernelspec": {
   "display_name": "Python 3",
   "language": "python",
   "name": "python3"
  },
  "language_info": {
   "codemirror_mode": {
    "name": "ipython",
    "version": 3
   },
   "file_extension": ".py",
   "mimetype": "text/x-python",
   "name": "python",
   "nbconvert_exporter": "python",
   "pygments_lexer": "ipython3",
   "version": "3.8.10"
  },
  "orig_nbformat": 4,
  "vscode": {
   "interpreter": {
    "hash": "916dbcbb3f70747c44a77c7bcd40155683ae19c65e1c03b4aa3499c5328201f1"
   }
  }
 },
 "nbformat": 4,
 "nbformat_minor": 2
}
