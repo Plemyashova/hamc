{
 "cells": [
  {
   "cell_type": "markdown",
   "metadata": {},
   "source": [
    "# How hypotheses are treated in statistics\n",
    "## Part 2"
   ]
  },
  {
   "cell_type": "code",
   "execution_count": 30,
   "metadata": {},
   "outputs": [],
   "source": [
    "import pandas as ps\n",
    "import numpy as np\n",
    "from scipy import stats as st\n",
    "import numpy as np\n",
    "from statsmodels.stats.weightstats import _zconfint_generic, _tconfint_generic\n",
    "import matplotlib.pyplot as plt\n",
    "import bootstrapped.bootstrap as bs\n",
    "import bootstrapped.compare_functions as bs_compare\n",
    "import bootstrapped.stats_functions as bs_stats"
   ]
  },
  {
   "cell_type": "markdown",
   "metadata": {},
   "source": [
    "## Confidence intervals, prediction intervals"
   ]
  },
  {
   "cell_type": "code",
   "execution_count": 27,
   "metadata": {},
   "outputs": [
    {
     "data": {
      "text/plain": [
       "(98.01687802675285, 101.89260855826679)"
      ]
     },
     "execution_count": 27,
     "metadata": {},
     "output_type": "execute_result"
    }
   ],
   "source": [
    "np.random.seed(0)\n",
    "X = st.norm.rvs(size=1000,loc=100,scale=1)\n",
    "\n",
    "\n",
    "n = len(X)\n",
    "X_mean = np.mean(X)\n",
    "S_X = np.var(X, ddof=1)\n",
    "\n",
    "_tconfint_generic(X_mean, np.sqrt(S_X), n - 1, 0.05, 'two-sided')"
   ]
  },
  {
   "cell_type": "markdown",
   "metadata": {},
   "source": [
    "## Confidence Intervals for difference in means\n",
    "***\n",
    "\n",
    "We want to see, what are the confidence intervals for $\\mu_1− \\mu_2$, if:\n",
    "\n",
    "- $X,X_2$ are i.i.d with a common variance $\\sigma$\n",
    "- $X,X_2$ are i.i.d with variances $\\sigma_1 \\neq \\sigma_2$\n",
    "- $X,X_2$ when the populations are dependent and normally distributed"
   ]
  },
  {
   "cell_type": "markdown",
   "metadata": {},
   "source": [
    "## Theorem\n",
    "***\n",
    "\n",
    "<div class=\"alert alert-block alert-info\">\n",
    "Let $X_1, X_2, ... , X_n \\sim \\mathcal{N}\\left(\\mu_X, \\sigma^2\\right)$ and $Y_1, Y_2, ... , Y_m \\sim \\mathcal{N}\\left(\\mu_Y, \\sigma^2\\right)$ are independant random samples, then a $(1-\\alpha)$ confidence interval for $\\mu_X - \\mu_Y$ is:\n",
    "\n",
    "<center> $\\overline{X} - \\overline{Y} \\pm \\left(t_{\\alpha/2,n+m-2}\\right) S_p \\sqrt{ \\frac{1}{n} + \\frac{1}{m}} $, </center> where\n",
    "\n",
    "<center> $S^2_p = \\frac{(n-1)S^2_X + (m-1)S^2_Y}{n+m-2}$ </center>\n",
    "is an unbiased estimator of common variance $\\sigma^2$\n"
   ]
  },
  {
   "cell_type": "code",
   "execution_count": 31,
   "metadata": {},
   "outputs": [
    {
     "data": {
      "text/plain": [
       "(3.077441764684975, 7.01598262755048)"
      ]
     },
     "execution_count": 31,
     "metadata": {},
     "output_type": "execute_result"
    }
   ],
   "source": [
    "np.random.seed(0)\n",
    "X = st.norm.rvs(size=100,loc=10,scale=1)\n",
    "Y = st.norm.rvs(size=150, loc=5, scale=1)\n",
    "\n",
    "n,m = len(X), len(Y)\n",
    "X_mean, Y_mean = np.mean(X), np.mean(Y)\n",
    "S_X, S_Y = np.var(X, ddof=1), np.var(Y, ddof=1)\n",
    "S_P = ((n-1) * S_X + (m-1) * S_Y) / (n + m - 2)\n",
    "\n",
    "\n",
    "_tconfint_generic(X_mean - Y_mean, \n",
    "                  np.sqrt(S_P), n + m - 2, 0.05, 'two-sided')"
   ]
  },
  {
   "cell_type": "markdown",
   "metadata": {},
   "source": [
    "## Bootstraping confidence intervals\n",
    "\n",
    "The key idea is to perform computations on the data itself to estimate the variation of statistics that are themselves computed from the same data. That is, the data is ‘pulling itself up by its own bootstrap.’\n",
    "\n",
    "### Sampling without replacement. Sampling with replacement\n",
    "\n",
    "### Bootstrap principle\n",
    "1. $x_1, x_2, ... , x_n$ - data sample from F.\n",
    "2. $u$ - statistic from sample\n",
    "3. $F^*$ - empirical distribution of data (resampling distribution)\n",
    "4. $x^*_1, x^*_2, ... , x^*_n$ - resample of the data of the same size\n",
    "5. $u^*$ - statistic from resample\n",
    "\n",
    "So, principle says that:\n",
    "- $F^* \\approx F$\n",
    "- Variation of $u$ approximates $u^*$\n",
    "\n",
    "### Parametric bootstrap\n",
    "\n",
    "\n",
    "[Bootstrap confidence intervals](https://ocw.mit.edu/courses/mathematics/18-05-introduction-to-probability-and-statistics-spring-2014/readings/MIT18_05S14_Reading24.pdf)\n",
    "\n",
    "\n",
    "[When the bootstrap doesn’t work](http://notstatschat.tumblr.com/post/156650638586/when-the-bootstrap-doesnt-work)\n",
    "\n",
    "https://github.com/facebookincubator/bootstrapped"
   ]
  },
  {
   "cell_type": "code",
   "execution_count": 32,
   "metadata": {},
   "outputs": [
    {
     "name": "stderr",
     "output_type": "stream",
     "text": [
      "/home/dmitry/.pyenv/versions/anaconda3-5.3.0/lib/python3.7/site-packages/matplotlib/axes/_axes.py:6571: UserWarning: The 'normed' kwarg is deprecated, and has been replaced by the 'density' kwarg.\n",
      "  warnings.warn(\"The 'normed' kwarg is deprecated, and has been \"\n"
     ]
    },
    {
     "data": {
      "image/png": "[encoded data removed]",
      "text/plain": [
       "<Figure size 432x288 with 1 Axes>"
      ]
     },
     "metadata": {
      "needs_background": "light"
     },
     "output_type": "display_data"
    }
   ],
   "source": [
    "mean = 1000\n",
    "stdev = 100\n",
    "\n",
    "population = np.random.normal(loc=mean, scale=stdev, size=1000)\n",
    "\n",
    "# Plot the population\n",
    "count, bins, ignored = plt.hist(population, 30, normed=True)\n",
    "\n",
    "plt.title('Distribution of the population')\n",
    "plt.show()"
   ]
  },
  {
   "cell_type": "code",
   "execution_count": 33,
   "metadata": {},
   "outputs": [
    {
     "data": {
      "text/plain": [
       "array([97.17345395])"
      ]
     },
     "execution_count": 33,
     "metadata": {},
     "output_type": "execute_result"
    }
   ],
   "source": [
    "samples = population[:1000]\n",
    "np.std([samples], axis=1)"
   ]
  },
  {
   "cell_type": "code",
   "execution_count": 34,
   "metadata": {},
   "outputs": [
    {
     "name": "stdout",
     "output_type": "stream",
     "text": [
      "996.9343257383252    (990.8397688038116, 1002.9522932197011)\n",
      "97.17345394656526    (92.7800069746797, 101.54333344283019)\n"
     ]
    }
   ],
   "source": [
    "mean_results = bs.bootstrap(samples, stat_func=bs_stats.mean)\n",
    "stdev_results = bs.bootstrap(samples, stat_func=bs_stats.std)\n",
    "\n",
    "print(mean_results)\n",
    "print(stdev_results)"
   ]
  },
  {
   "cell_type": "markdown",
   "metadata": {},
   "source": [
    "## Statistical notion of hypothesis\n",
    "\n",
    "\"What is the value of the parameter θ?\"\n",
    "\n",
    "\"Is the value of the parameter θ such and such?\" \n",
    "\n",
    " - estimate μ, the mean body temperature of adults\n",
    " - is μ, the mean body temperature of adults, 37 degrees Celsius\n",
    "***\n",
    "### Hypothesis testing framework. Null hypothesis. Alternative hypothesis\n",
    "***\n",
    "Compare experiment data with predicted data\n",
    "\n",
    "$X^n = (X_1, ..., X_n), X \\sim P$\n",
    "- $X = {0,1}$\n",
    "- $X = $ accuracy of prediction\n",
    "\n",
    "What does data tell? E.g., does it tell that model predicts better than random?\n",
    "\n",
    "- Null hypothesis $H_0: P \\in \\omega$\n",
    "- Alternative: $H_1: P \\notin \\omega$\n",
    "- Statistics : $T(X^n) \\sim F(X)$ if $H_0$\n",
    "- $F(X)$ - null distribution of statistics\n",
    "- $F(X), T(X)$ - statistical criteria for testing $H_0$ against $H_1$\n",
    "***\n",
    "### P-values\n",
    "***\n",
    "What is the probability of getting t if $H_0$ is true?\n",
    "<center>$p = P(T > t | H_0)$</center>\n",
    "\n",
    "p - probability of getting that statistics value (or more extreme) if $H_0$ is true\n",
    "\n",
    "We compare it with significance level $\\alpha$\n",
    "$H_0$ is rejected in favor of $H_1$ if $p < \\alpha$\n",
    "\n",
    "### Type I and II errors\n",
    "***\n",
    "\n",
    "- $H_0$ is correct, but rejected - Type I\n",
    "- $H_0$ is incorrect, but not rejected - Type II\n",
    "\n",
    "They are not symmetric! Type I is cricical error!\n",
    "<center> $ P(reject  H_0 | H_0  is  correct) = P(p<\\alpha | H_0) < \\alpha $ </center>\n",
    "\n",
    "Type II is associated with power of criteria. \n",
    "Within all correct ones we choose with max value.\n",
    "\n",
    "\n",
    "What we need\n",
    "- Hypotheses and alternative\n",
    "- Statitics\n",
    "- Null distribution\n",
    "- p-value\n",
    "\n",
    "***"
   ]
  },
  {
   "cell_type": "markdown",
   "metadata": {},
   "source": [
    "<center><img src=\"../pictures/correct_technique.png\"></center>"
   ]
  },
  {
   "cell_type": "markdown",
   "metadata": {},
   "source": [
    "Null hypothesis testing. Formal approach to decide if a statistical relationship in a sample reflects a real relationship in the population or is just due to chance.\n",
    " "
   ]
  },
  {
   "cell_type": "code",
   "execution_count": 46,
   "metadata": {},
   "outputs": [
    {
     "name": "stdout",
     "output_type": "stream",
     "text": [
      "0.43610505971312163\n",
      "0.007801614506512608\n",
      "0.023718468779480334\n"
     ]
    }
   ],
   "source": [
    "import scipy\n",
    "\n",
    "data1 = np.random.normal(0, 1, size=50)\n",
    "data2 = np.random.normal(0.25, 1, size=50)\n",
    "\n",
    "x = np.linspace(-4, 4, 160)\n",
    "y1 = scipy.stats.norm.pdf(x)\n",
    "y2 = scipy.stats.norm.pdf(x, loc=2)\n",
    "\n",
    "true_mu = 0\n",
    "\n",
    "onesample_results = scipy.stats.ttest_1samp(data1, true_mu)\n",
    "print(onesample_results.pvalue)\n",
    "\n",
    "onesample_results = scipy.stats.ttest_1samp(data2, true_mu)\n",
    "print(onesample_results.pvalue)\n",
    "\n",
    "twosample_results = scipy.stats.ttest_ind(data1, data2)\n",
    "print(twosample_results.pvalue)"
   ]
  },
  {
   "cell_type": "markdown",
   "metadata": {},
   "source": [
    "### The Misunderstood p Value\n",
    "\n",
    "The p value is one of the most misunderstood quantities in scientific research. \n",
    "\n",
    "[Statistical tests, P values, conﬁdence intervals, and power: a guide\n",
    "to misinterpretations](https://fermatslibrary.com/s/statistical-tests-p-values-confidence-intervals-and-power-a-guide-to-misinterpretations)\n",
    "\n",
    "\n",
    "The most common misinterpretation is that the p value is the probability that the null hypothesis is true."
   ]
  },
  {
   "cell_type": "markdown",
   "metadata": {},
   "source": [
    "### Multiple hypotheses testing\n",
    "#### Family-wise error rate. FWER control procedure\n",
    "FWER: Probability that any true null hypothesis is rejected.\n",
    "\n",
    "http://simulations.lpsm.paris/fdr_tutorial/\n",
    "\n",
    "https://github.com/puolival/multipy\n",
    "\n"
   ]
  },
  {
   "cell_type": "markdown",
   "metadata": {},
   "source": []
  },
  {
   "cell_type": "markdown",
   "metadata": {},
   "source": [
    "\n"
   ]
  },
  {
   "cell_type": "markdown",
   "metadata": {},
   "source": [
    "## Bayesian hypothesis testing\n",
    "\n",
    "[Are You a Bayesian or a Frequentist?](http://mlg.eng.cam.ac.uk/mlss09/mlss_slides/Jordan_1.pdf)"
   ]
  }
 ],
 "metadata": {
  "kernelspec": {
   "display_name": "Python 3",
   "language": "python",
   "name": "python3"
  },
  "language_info": {
   "codemirror_mode": {
    "name": "ipython",
    "version": 3
   },
   "file_extension": ".py",
   "mimetype": "text/x-python",
   "name": "python",
   "nbconvert_exporter": "python",
   "pygments_lexer": "ipython3",
   "version": "3.7.0"
  }
 },
 "nbformat": 4,
 "nbformat_minor": 2
}
