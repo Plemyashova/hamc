{
  "nbformat": 4,
  "nbformat_minor": 0,
  "metadata": {
    "colab": {
      "provenance": []
    },
    "kernelspec": {
      "name": "python3",
      "display_name": "Python 3"
    },
    "language_info": {
      "name": "python"
    }
  },
  "cells": [
    {
      "cell_type": "code",
      "execution_count": 10,
      "metadata": {
        "id": "NWNT2p2KL7gN"
      },
      "outputs": [],
      "source": [
        "%matplotlib inline\n",
        "\n",
        "import numpy as np\n",
        "from sklearn import datasets, linear_model, preprocessing, model_selection\n",
        "from sklearn.utils import shuffle\n",
        "import matplotlib.pyplot as plt\n",
        "import pandas as pd"
      ]
    },
    {
      "cell_type": "code",
      "source": [
        "def calculate_aic_bic(y_true, y_pred, k):\n",
        "    \"\"\"\n",
        "    Вычисляем AIC и BIC по предсказаниям модели.\n",
        "    k - количество параметров модели\n",
        "    \"\"\"\n",
        "    n = len(y_true)\n",
        "    rss = np.sum((y_true - y_pred) ** 2)\n",
        "    aic = n * np.log(rss / n) + 2 * k\n",
        "    bic = n * np.log(rss / n) + k * np.log(n)\n",
        "    return aic, bic"
      ],
      "metadata": {
        "id": "-6jZJYD7PJbp"
      },
      "execution_count": 13,
      "outputs": []
    },
    {
      "cell_type": "code",
      "source": [
        "df = pd.read_csv('exxsol_data.csv', sep=';', header=(0))\n",
        "y = df['tohn/hour']\n",
        "freq_temp = df[['freq_peak','temp']]\n",
        "\n",
        "freq_temp, y = shuffle(freq_temp, y)\n",
        "\n",
        "lr = linear_model.LinearRegression()\n",
        "predicted_lr = model_selection.cross_val_predict(lr, freq_temp, y, cv=20)\n",
        "score_lr = model_selection.cross_val_score(lr, freq_temp, y, scoring='r2', cv=20)\n",
        "lr.fit(freq_temp, y)\n",
        "k_lr = freq_temp.shape[1] + 1\n",
        "aic_lr, bic_lr = calculate_aic_bic(y, lr.predict(freq_temp), k_lr)\n",
        "print(f\"Linear Regression:   AIC: {aic_lr:.2f}, BIC: {bic_lr:.2f}\")\n",
        "\n",
        "\n",
        "encv = linear_model.ElasticNetCV(cv=10, max_iter=3000, n_alphas=10)\n",
        "predicted_encv = model_selection.cross_val_predict(encv, freq_temp, y, cv=20)\n",
        "score_encv = model_selection.cross_val_score(encv, freq_temp, y, scoring='r2', cv=20)\n",
        "encv.fit(freq_temp, y)\n",
        "k_encv = np.sum(encv.coef_ != 0) + 1\n",
        "aic_encv, bic_encv = calculate_aic_bic(y, encv.predict(freq_temp), k_encv)\n",
        "print(f\"ElasticNetCV:     AIC: {aic_encv:.2f}, BIC: {bic_encv:.2f}\")"
      ],
      "metadata": {
        "colab": {
          "base_uri": "https://localhost:8080/"
        },
        "id": "hWoFS6MXPHk5",
        "outputId": "838c4325-13c0-43a1-d975-0feeb5bb44d1"
      },
      "execution_count": 14,
      "outputs": [
        {
          "output_type": "stream",
          "name": "stdout",
          "text": [
            "Linear Regression:   AIC: -1272.09, BIC: -1258.43\n",
            "ElasticNetCV:     AIC: -1100.04, BIC: -1086.38\n"
          ]
        }
      ]
    }
  ]
}