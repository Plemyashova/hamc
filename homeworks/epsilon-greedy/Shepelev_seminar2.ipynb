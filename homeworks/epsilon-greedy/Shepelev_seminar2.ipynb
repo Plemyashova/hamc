{
 "cells": [
  {
   "cell_type": "code",
   "execution_count": 16,
   "id": "688905ca",
   "metadata": {},
   "outputs": [
    {
     "data": {
      "text/plain": [
       "[1.0, 2.0]"
      ]
     },
     "execution_count": 16,
     "metadata": {},
     "output_type": "execute_result"
    }
   ],
   "source": [
    "import numpy as np\n",
    "def m1():\n",
    "    return 1\n",
    "def m2():\n",
    "    return 2\n",
    "def execute(arg):\n",
    "    if arg==0:\n",
    "        return m1()\n",
    "    else:\n",
    "        return m2()\n",
    "\n",
    "predicted_means = [0,0]\n",
    "sums_pred = [0,0]\n",
    "eps=0.5\n",
    "N=[0,0]\n",
    "alpha = 0.99\n",
    "i=0\n",
    "while True:\n",
    "    eps_t = eps*alpha**i\n",
    "    p = np.random.uniform(0,1)\n",
    "    if p<eps:\n",
    "        j = np.random.choice([0,1])\n",
    "    else:\n",
    "        j = np.argmax(predicted_means)\n",
    "    x = execute(j)\n",
    "    N[j]+=1\n",
    "    X_n = predicted_means[j]+(1/N[j])*(x - predicted_means[j])\n",
    "    predicted_means[j] = X_n\n",
    "    i+=1\n",
    "    if eps_t<0.005:\n",
    "        break\n",
    "\n",
    "\n",
    "predicted_means"
   ]
  }
 ],
 "metadata": {
  "kernelspec": {
   "display_name": "Python 3",
   "language": "python",
   "name": "python3"
  },
  "language_info": {
   "codemirror_mode": {
    "name": "ipython",
    "version": 3
   },
   "file_extension": ".py",
   "mimetype": "text/x-python",
   "name": "python",
   "nbconvert_exporter": "python",
   "pygments_lexer": "ipython3",
   "version": "3.7.10"
  }
 },
 "nbformat": 4,
 "nbformat_minor": 5
}
