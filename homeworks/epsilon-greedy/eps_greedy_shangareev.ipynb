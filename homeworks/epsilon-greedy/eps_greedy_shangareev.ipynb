{
  "nbformat": 4,
  "nbformat_minor": 0,
  "metadata": {
    "colab": {
      "provenance": []
    },
    "kernelspec": {
      "name": "python3",
      "display_name": "Python 3"
    },
    "language_info": {
      "name": "python"
    }
  },
  "cells": [
    {
      "cell_type": "code",
      "source": [
        "import numpy as np\n",
        "import operator\n",
        "import time"
      ],
      "metadata": {
        "id": "prokJbezctCS"
      },
      "execution_count": null,
      "outputs": []
    },
    {
      "cell_type": "code",
      "source": [
        "def execute(j):\n",
        "  return np.random.randint(2)"
      ],
      "metadata": {
        "id": "1kwPQjXlcwxN"
      },
      "execution_count": null,
      "outputs": []
    },
    {
      "cell_type": "code",
      "execution_count": null,
      "metadata": {
        "id": "kb277kC7cXYb"
      },
      "outputs": [],
      "source": [
        "e = 0.1\n",
        "\n",
        "sums = [0, 0]\n",
        "n = [1, 1]\n",
        "\n",
        "while True:\n",
        "  j = -1\n",
        "  means = list(map(operator.truediv, sums, n))\n",
        "  if np.random.rand(1)[0] < e:\n",
        "    j = np.random.randint(2)\n",
        "  else:\n",
        "    j = np.argmax(means)\n",
        "  res = [0, 0]\n",
        "  res[j] = execute(j)\n",
        "  n[j] = n[j] + 1\n",
        "  sums = list(map(operator.add, sums, res))\n",
        "  print(list(map(operator.truediv, sums, n)))\n",
        "  time.sleep(0.5)"
      ]
    }
  ]
}