{
  "nbformat": 4,
  "nbformat_minor": 0,
  "metadata": {
    "colab": {
      "provenance": []
    },
    "kernelspec": {
      "name": "python3",
      "display_name": "Python 3"
    },
    "language_info": {
      "name": "python"
    }
  },
  "cells": [
    {
      "cell_type": "markdown",
      "source": [
        "# Homework 1\n",
        "\n",
        "We are going to work with the following dataset: fluid current in a tube. Some statistics are collected for dataset, incl. mean, skewness, kurtosis, etc. We are predicting flow rate ('tohn/hour'). We need to build confidence and predictive intervals."
      ],
      "metadata": {
        "id": "rziDV6LO7sCQ"
      }
    },
    {
      "cell_type": "code",
      "source": [
        "%matplotlib inline\n",
        "\n",
        "import numpy as np\n",
        "from sklearn.metrics import mean_squared_error\n",
        "from sklearn import datasets, linear_model, preprocessing, model_selection\n",
        "from sklearn.utils import shuffle\n",
        "import matplotlib.pyplot as plt\n",
        "import pandas as pd\n",
        "from scipy import stats as st\n",
        "from statsmodels.stats.weightstats import _zconfint_generic, _tconfint_generic"
      ],
      "metadata": {
        "id": "o_k9qlr27uhC"
      },
      "execution_count": 1,
      "outputs": []
    },
    {
      "cell_type": "code",
      "source": [
        "df = pd.read_csv('exxsol_data.csv', sep=';', header=(0))"
      ],
      "metadata": {
        "id": "hCFF6-pw72AI"
      },
      "execution_count": 2,
      "outputs": []
    },
    {
      "cell_type": "markdown",
      "source": [
        "There are 10 features and 1 label to predict:"
      ],
      "metadata": {
        "id": "zUehTwwx736b"
      }
    },
    {
      "cell_type": "code",
      "source": [
        "print(df.columns.values)"
      ],
      "metadata": {
        "colab": {
          "base_uri": "https://localhost:8080/"
        },
        "id": "3HQiXs5q762u",
        "outputId": "72d1e705-dce4-40a0-c8f9-bdf51efc0798"
      },
      "execution_count": 3,
      "outputs": [
        {
          "output_type": "stream",
          "name": "stdout",
          "text": [
            "['mean' 'std' 'skew' 'kurt' 'RMS' 'crest' 'freq_peak' 'shan' 'perm' 'temp'\n",
            " 'tohn/hour']\n"
          ]
        }
      ]
    },
    {
      "cell_type": "code",
      "source": [
        "y = df['tohn/hour']\n",
        "freq_temp = df[['freq_peak','temp']]"
      ],
      "metadata": {
        "id": "Y6leNXkm7862"
      },
      "execution_count": 4,
      "outputs": []
    },
    {
      "cell_type": "markdown",
      "source": [
        "Physics tells us that flow rate is a function of a frequency peak and temperature."
      ],
      "metadata": {
        "id": "xikn11j78Bpn"
      }
    },
    {
      "cell_type": "code",
      "source": [
        "freq_temp, y = shuffle(freq_temp, y, random_state=42)\n",
        "\n",
        "lr = linear_model.LinearRegression()\n",
        "predicted = model_selection.cross_val_predict(\n",
        "    lr, freq_temp, y.ravel(), cv=20)\n",
        "score = model_selection.cross_val_score(lr, freq_temp, y,\n",
        "                                         scoring='r2',cv=20)"
      ],
      "metadata": {
        "id": "0y8f3JMk7_nZ"
      },
      "execution_count": 5,
      "outputs": []
    },
    {
      "cell_type": "markdown",
      "source": [
        "# Q0: Build point estimate for mean r2 score and its deviation"
      ],
      "metadata": {
        "id": "IpbLKeMe8LIy"
      }
    },
    {
      "cell_type": "code",
      "source": [
        "X_mean = np.mean(score)\n",
        "S_X = np.var(score, ddof=1)\n",
        "\n",
        "X_mean, S_X"
      ],
      "metadata": {
        "colab": {
          "base_uri": "https://localhost:8080/"
        },
        "id": "8ENF-47V8MQ5",
        "outputId": "2508387f-cac1-4ce4-f728-2ae210bfa9ba"
      },
      "execution_count": 6,
      "outputs": [
        {
          "output_type": "execute_result",
          "data": {
            "text/plain": [
              "(0.8258840976744921, 0.003246200198990101)"
            ]
          },
          "metadata": {},
          "execution_count": 6
        }
      ]
    },
    {
      "cell_type": "markdown",
      "source": [
        "# Q1: Predicted is an array with predictions of the label y. Assuming, that $\\sigma = 0.1$,\n",
        "# compute 95% confidence and predictive interval for mean squared error."
      ],
      "metadata": {
        "id": "nBL6Ifw4-HlT"
      }
    },
    {
      "cell_type": "code",
      "source": [
        "squared_error = np.sqrt((y - predicted)**2)\n",
        "\n",
        "n = len(squared_error)\n",
        "mean_se = np.mean(squared_error)\n",
        "var_se = 0.1\n",
        "\n",
        "confidence_int = _zconfint_generic(mean_se, var_se, 0.05, 'two-sided')\n",
        "predictive_int = _zconfint_generic(mean_se, var_se*(1+1/n), 0.05, 'two-sided')\n",
        "\n",
        "confidence_int, predictive_int"
      ],
      "metadata": {
        "colab": {
          "base_uri": "https://localhost:8080/"
        },
        "id": "GTaMeUeM998q",
        "outputId": "a1539ec9-adbe-47e3-e2d4-7f97183e7b5d"
      },
      "execution_count": 12,
      "outputs": [
        {
          "output_type": "execute_result",
          "data": {
            "text/plain": [
              "((0.12558593091531794, 0.5175787278233288),\n",
              " (0.12530593606038365, 0.517858722678263))"
            ]
          },
          "metadata": {},
          "execution_count": 12
        }
      ]
    },
    {
      "cell_type": "markdown",
      "source": [
        "# Q2: Compute 95% confidence and predicted intervals for mean squared error, assuming no knowledge about $\\sigma$."
      ],
      "metadata": {
        "id": "7U21RHnsIx9b"
      }
    },
    {
      "cell_type": "code",
      "source": [
        "var_se = np.var(squared_error, ddof=1)\n",
        "\n",
        "confidence_int = _tconfint_generic(mean_se, np.sqrt(var_se), n - 1, 0.05, 'two-sided')\n",
        "predictive_int = _tconfint_generic(mean_se, np.sqrt(var_se)*(1+1/n), n -1, 0.05, 'two-sided')\n",
        "\n",
        "print(f\"confidence_int = {confidence_int}, predictive_int = {predictive_int}\")"
      ],
      "metadata": {
        "colab": {
          "base_uri": "https://localhost:8080/"
        },
        "id": "iIsCkkMYEaVC",
        "outputId": "efd5bf61-d6a5-49b7-ae07-7306b958d61e"
      },
      "execution_count": 13,
      "outputs": [
        {
          "output_type": "stream",
          "name": "stdout",
          "text": [
            "confidence_int = (-0.1579417361131485, 0.8011063948517951), predictive_int = (-0.15862677049240914, 0.8017914292310558)\n"
          ]
        }
      ]
    },
    {
      "cell_type": "markdown",
      "source": [
        "We can use additional features and more complex model, e.g. ElasticNet."
      ],
      "metadata": {
        "id": "25Y4CzRyJagm"
      }
    },
    {
      "cell_type": "code",
      "source": [
        "y = df['tohn/hour']\n",
        "X = df.drop(['tohn/hour'],axis=1)\n",
        "X = preprocessing.scale(X)\n",
        "X, y = shuffle(X, y, random_state=42)\n",
        "\n",
        "encv = linear_model.ElasticNetCV(cv=10,max_iter=3000, n_alphas=10)\n",
        "predicted_encv = model_selection.cross_val_predict(\n",
        "    encv, X, y.ravel(), cv=20)\n",
        "score_encv = model_selection.cross_val_score(encv,X, y.ravel(),\n",
        "                                         scoring='r2',cv=20)"
      ],
      "metadata": {
        "id": "JHBeYvgfJRpp"
      },
      "execution_count": 14,
      "outputs": []
    },
    {
      "cell_type": "markdown",
      "source": [
        "# Q3: Compute 95% confidence interval for difference in means of mean squared error between 2 models, assuming no knowledge about $\\sigma$."
      ],
      "metadata": {
        "id": "99P4U2XMJsGj"
      }
    },
    {
      "cell_type": "code",
      "source": [
        "squared_error_encv = np.sqrt((y - predicted_encv)**2)\n",
        "n, m = len(squared_error), len(squared_error_encv)\n",
        "X_mean, Y_mean = np.mean(squared_error), np.mean(squared_error_encv)\n",
        "S_X, S_Y = np.var(squared_error, ddof=1), np.var(squared_error_encv, ddof=1)\n",
        "S_P = ((n-1) * S_X + (m-1) * S_Y) / (n + m - 2)\n",
        "\n",
        "\n",
        "_tconfint_generic(X_mean - Y_mean, \n",
        "                  np.sqrt(S_P), n + m - 2, 0.05, 'two-sided')"
      ],
      "metadata": {
        "colab": {
          "base_uri": "https://localhost:8080/"
        },
        "id": "z1Sk7aKWJkdn",
        "outputId": "66bda0fb-6313-4e8a-b8d1-e759e88f99ab"
      },
      "execution_count": 18,
      "outputs": [
        {
          "output_type": "execute_result",
          "data": {
            "text/plain": [
              "(-0.2663410203302803, 0.567207950813794)"
            ]
          },
          "metadata": {},
          "execution_count": 18
        }
      ]
    },
    {
      "cell_type": "markdown",
      "source": [
        "# Q4: Implement UCB1"
      ],
      "metadata": {
        "id": "ICJSk_luOZiq"
      }
    },
    {
      "cell_type": "code",
      "source": [
        "import matplotlib.pyplot as plt\n",
        "import numpy as np\n",
        "from scipy.stats import beta\n",
        "\n",
        "\n",
        "class Model:\n",
        "    def __init__(self, probability, init_mean=0):\n",
        "        self.probability = probability\n",
        "        self.mean = init_mean\n",
        "        if init_mean > 0:\n",
        "             self.sample_size = 1\n",
        "        else:\n",
        "             self.sample_size = 0\n",
        "    \n",
        "    def execute(self):\n",
        "        return np.random.uniform(0,1) < self.probability\n",
        "\n",
        "    def update(self, x):\n",
        "        self.sample_size += 1\n",
        "        self.mean = ((self.sample_size - 1)*self.mean + x) / self.sample_size\n",
        "\n",
        "def experiment(model_probs, eps, total=1000):\n",
        "    models = [Model(p, init_mean=1) for p in model_probs]\n",
        "    rewards = np.zeros(total)\n",
        "\n",
        "    num_times_explored = 0\n",
        "    num_times_exploited = 0\n",
        "    num_optimal = 0\n",
        "\n",
        "    optimal_j = np.argmax([m.probability for m in models])\n",
        "    print(\"optimal j:\", optimal_j)\n",
        "\n",
        "    for i in range(total):\n",
        "\n",
        "      # use epsilon-greedy to select the best\n",
        "      if np.random.uniform(0,1) < eps:\n",
        "        num_times_explored += 1\n",
        "        j = np.random.randint(len(models))\n",
        "      else:\n",
        "        num_times_exploited += 1\n",
        "        j = np.argmax([m.mean + np.sqrt(2*np.log(i)/m.sample_size) for m in models])\n",
        "\n",
        "      if j == optimal_j:\n",
        "        num_optimal += 1\n",
        "\n",
        "      # execute best model\n",
        "      x = models[j].execute()\n",
        "\n",
        "      # update rewards \n",
        "      rewards[i] = x\n",
        "\n",
        "      # update the distribution for the executed model\n",
        "      models[j].update(x)\n",
        "      \n",
        "    for m in models:\n",
        "      print(\"mean estimate:\", m.mean)\n",
        "\n",
        "    # print total reward\n",
        "    print(\"total reward earned:\", rewards.sum())\n",
        "    print(\"overall win rate:\", rewards.sum() / total)\n",
        "    print(\"num_times_explored:\", num_times_explored)\n",
        "    print(\"num_times_exploited:\", num_times_exploited)\n",
        "    print(\"num times selected optimal bandit:\", num_optimal)\n",
        "\n",
        "    # plot the results\n",
        "    cumulative_rewards = np.cumsum(rewards)\n",
        "    win_rates = cumulative_rewards / (np.arange(total) + 1)\n",
        "    plt.plot(win_rates)\n",
        "    plt.plot(np.ones(total)*np.max(model_probs))\n",
        "    plt.show()"
      ],
      "metadata": {
        "id": "gS5XPBIaIwNC"
      },
      "execution_count": 19,
      "outputs": []
    },
    {
      "cell_type": "code",
      "source": [
        "total = 10000\n",
        "eps = 0.3\n",
        "model_probs = [0.2, 0.5, 0.75]\n",
        "experiment(model_probs, eps, total)"
      ],
      "metadata": {
        "colab": {
          "base_uri": "https://localhost:8080/",
          "height": 491
        },
        "id": "cQReNbKyr0Tb",
        "outputId": "2b81d762-2f62-4a49-c7fa-c6a34cac4da1"
      },
      "execution_count": 21,
      "outputs": [
        {
          "output_type": "stream",
          "name": "stdout",
          "text": [
            "optimal j: 2\n"
          ]
        },
        {
          "output_type": "stream",
          "name": "stderr",
          "text": [
            "<ipython-input-19-af3bf4834ba6>:41: RuntimeWarning: divide by zero encountered in log\n",
            "  j = np.argmax([m.mean + np.sqrt(2*np.log(i)/m.sample_size) for m in models])\n",
            "<ipython-input-19-af3bf4834ba6>:41: RuntimeWarning: invalid value encountered in sqrt\n",
            "  j = np.argmax([m.mean + np.sqrt(2*np.log(i)/m.sample_size) for m in models])\n"
          ]
        },
        {
          "output_type": "stream",
          "name": "stdout",
          "text": [
            "mean estimate: 0.1986301369863014\n",
            "mean estimate: 0.4817012858555885\n",
            "mean estimate: 0.7597239648682553\n",
            "total reward earned: 6742.0\n",
            "overall win rate: 0.6742\n",
            "num_times_explored: 3022\n",
            "num_times_exploited: 6978\n",
            "num times selected optimal bandit: 7969\n"
          ]
        },
        {
          "output_type": "display_data",
          "data": {
            "text/plain": [
              "<Figure size 432x288 with 1 Axes>"
            ],
            "image/png": "[encoded data removed]"
          },
          "metadata": {
            "needs_background": "light"
          }
        }
      ]
    },
    {
      "cell_type": "code",
      "source": [],
      "metadata": {
        "id": "7JluzqFVuyY7"
      },
      "execution_count": null,
      "outputs": []
    }
  ]
}