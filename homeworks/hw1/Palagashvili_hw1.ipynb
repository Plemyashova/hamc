{
 "cells": [
  {
   "cell_type": "markdown",
   "metadata": {},
   "source": [
    "# Homework 1\n",
    "***\n",
    "\n",
    "We are going to work with the following dataset: fluid current in a tube.\n",
    "Some statistics are collected for dataset, incl. mean, skewness, kurtosis, etc. We are predicting flow rate ('tohn/hour'). We need to build confidence and predictive intervals."
   ]
  },
  {
   "cell_type": "code",
   "execution_count": 1,
   "metadata": {},
   "outputs": [],
   "source": [
    "%matplotlib inline\n",
    "\n",
    "import numpy as np\n",
    "from sklearn import datasets, linear_model, preprocessing, model_selection\n",
    "from sklearn.utils import shuffle\n",
    "import matplotlib.pyplot as plt\n",
    "import pandas as pd\n",
    "\n",
    "from scipy import stats as st\n",
    "from statsmodels.stats.weightstats import _zconfint_generic, _tconfint_generic"
   ]
  },
  {
   "cell_type": "code",
   "execution_count": 8,
   "metadata": {},
   "outputs": [
    {
     "name": "stdout",
     "output_type": "stream",
     "text": [
      "exxsol_data.csv  Palagashvili_hw1.ipynb\r\n"
     ]
    }
   ],
   "source": [
    "!ls"
   ]
  },
  {
   "cell_type": "code",
   "execution_count": 7,
   "metadata": {},
   "outputs": [
    {
     "name": "stdout",
     "output_type": "stream",
     "text": [
      "--2023-03-22 20:42:13--  https://raw.githubusercontent.com/dmkovalev/hamc2019/master/homeworks/exxsol_data.csv\n",
      "Resolving raw.githubusercontent.com (raw.githubusercontent.com)... 2606:50c0:8003::154, 2606:50c0:8000::154, 2606:50c0:8001::154, ...\n",
      "Connecting to raw.githubusercontent.com (raw.githubusercontent.com)|2606:50c0:8003::154|:443... connected.\n",
      "HTTP request sent, awaiting response... 200 OK\n",
      "Length: 84661 (83K) [text/plain]\n",
      "Saving to: ‘exxsol_data.csv’\n",
      "\n",
      "exxsol_data.csv     100%[===================>]  82.68K  --.-KB/s    in 0.1s    \n",
      "\n",
      "2023-03-22 20:42:14 (584 KB/s) - ‘exxsol_data.csv’ saved [84661/84661]\n",
      "\n"
     ]
    }
   ],
   "source": [
    "!wget https://raw.githubusercontent.com/dmkovalev/hamc2019/master/homeworks/exxsol_data.csv"
   ]
  },
  {
   "cell_type": "code",
   "execution_count": 6,
   "metadata": {},
   "outputs": [],
   "source": [
    "!rm exxsol_data.csv"
   ]
  },
  {
   "cell_type": "code",
   "execution_count": 10,
   "metadata": {},
   "outputs": [],
   "source": [
    "df = pd.read_csv('exxsol_data.csv', sep=';', header=(0))"
   ]
  },
  {
   "cell_type": "markdown",
   "metadata": {},
   "source": [
    "There are 10 features and 1 label to predict:"
   ]
  },
  {
   "cell_type": "code",
   "execution_count": 11,
   "metadata": {},
   "outputs": [
    {
     "name": "stdout",
     "output_type": "stream",
     "text": [
      "['mean' 'std' 'skew' 'kurt' 'RMS' 'crest' 'freq_peak' 'shan' 'perm' 'temp'\n",
      " 'tohn/hour']\n"
     ]
    }
   ],
   "source": [
    "print(df.columns.values)"
   ]
  },
  {
   "cell_type": "code",
   "execution_count": 12,
   "metadata": {},
   "outputs": [],
   "source": [
    "y = df['tohn/hour']\n",
    "freq_temp = df[['freq_peak','temp']]"
   ]
  },
  {
   "cell_type": "markdown",
   "metadata": {},
   "source": [
    "Physics tells us that flow rate is a function of a frequency peak and temperature."
   ]
  },
  {
   "cell_type": "code",
   "execution_count": 14,
   "metadata": {},
   "outputs": [],
   "source": [
    "freq_temp, y = shuffle(freq_temp, y)\n",
    "\n",
    "from sklearn.model_selection import train_test_split\n",
    "train_freq, test_freq, train_y, test_y = train_test_split(freq_temp, y, train_size=0.7, random_state=2)\n",
    "\n",
    "lr = linear_model.LinearRegression()\n",
    "predicted = model_selection.cross_val_predict(lr, freq_temp, y.ravel(), cv=20)\n",
    "score = model_selection.cross_val_score(lr, freq_temp, y, scoring='r2', cv=20)"
   ]
  },
  {
   "cell_type": "code",
   "execution_count": 15,
   "metadata": {},
   "outputs": [
    {
     "data": {
      "text/plain": [
       "array([0.82733313, 0.88085829, 0.80281416, 0.86001148, 0.83537404,\n",
       "       0.86548846, 0.92868374, 0.87432145, 0.87908234, 0.86472538,\n",
       "       0.71533576, 0.71206013, 0.65611718, 0.88212949, 0.81554522,\n",
       "       0.82995514, 0.8301053 , 0.82994108, 0.7488292 , 0.89428285])"
      ]
     },
     "execution_count": 15,
     "metadata": {},
     "output_type": "execute_result"
    }
   ],
   "source": [
    "score"
   ]
  },
  {
   "cell_type": "markdown",
   "metadata": {},
   "source": [
    "## Q0: Build point estimate for mean r2 score and its deviation"
   ]
  },
  {
   "cell_type": "code",
   "execution_count": 19,
   "metadata": {},
   "outputs": [
    {
     "data": {
      "text/plain": [
       "(0.6813584483607293, 0.9719409346454249)"
      ]
     },
     "execution_count": 19,
     "metadata": {},
     "output_type": "execute_result"
    }
   ],
   "source": [
    "mean = np.mean(score)\n",
    "var = np.var(score, ddof=1)\n",
    "\n",
    "_tconfint_generic(mean, np.sqrt(var), score.shape[0] - 1, 0.05, 'two-sided')"
   ]
  },
  {
   "cell_type": "markdown",
   "metadata": {},
   "source": [
    "## Q1: Predicted is an array with predictions of the label y. Assuming, that $\\sigma = 0.1$, compute 95% confidence and predictive interval for mean squared error. "
   ]
  },
  {
   "cell_type": "code",
   "execution_count": 25,
   "metadata": {},
   "outputs": [
    {
     "name": "stdout",
     "output_type": "stream",
     "text": [
      "confidence_interval = (0.12634830758482346, 0.5183411044928343)\n",
      "predictive_interval = (0.12606831272988916, 0.5186210993477686)\n"
     ]
    }
   ],
   "source": [
    "errors = np.sqrt((predicted - y)**2)  \n",
    "error_mean = np.mean(errors)\n",
    "n = errors.shape[0]\n",
    "\n",
    "confidence_interval = _zconfint_generic(error_mean, 0.1, 0.05, 'two-sided')\n",
    "predictive_interval = _zconfint_generic(error_mean, (n + 1) / (10 * n), 0.05, 'two-sided')\n",
    "\n",
    "print(f'confidence_interval = {confidence_interval}')\n",
    "print(f'predictive_interval = {predictive_interval}')"
   ]
  },
  {
   "cell_type": "markdown",
   "metadata": {},
   "source": [
    "## Q2:  Compute 95% confidence and predicted intervals for mean squared error, assuming no knowledge about $\\sigma$."
   ]
  },
  {
   "cell_type": "code",
   "execution_count": 26,
   "metadata": {},
   "outputs": [
    {
     "name": "stdout",
     "output_type": "stream",
     "text": [
      "confidence_interval = (-0.15909948962765658, 0.8037889017053144)\n",
      "predictive_interval = (-0.15978726705003732, 0.804476679127695)\n"
     ]
    }
   ],
   "source": [
    "errors = np.sqrt((predicted - y)**2)  \n",
    "error_mean = np.mean(errors)\n",
    "error_var = np.var(errors, ddof=1)\n",
    "n = errors.shape[0]\n",
    "\n",
    "confidence_interval = _tconfint_generic(error_mean, np.sqrt(error_var), n-1, 0.05, 'two-sided')\n",
    "predictive_interval = _tconfint_generic(error_mean, np.sqrt(error_var) * (n+1) / n, n-1, 0.05,'two-sided')\n",
    "\n",
    "print(f'confidence_interval = {confidence_interval}')\n",
    "print(f'predictive_interval = {predictive_interval}')"
   ]
  },
  {
   "cell_type": "markdown",
   "metadata": {},
   "source": [
    "We can use additional features and more complex model, e.g. ElasticNet."
   ]
  },
  {
   "cell_type": "code",
   "execution_count": 27,
   "metadata": {},
   "outputs": [],
   "source": [
    "y = df['tohn/hour']\n",
    "X = df.drop(['tohn/hour'], axis=1)\n",
    "X = preprocessing.scale(X)\n",
    "X, y = shuffle(X, y)\n",
    "\n",
    "encv = linear_model.ElasticNetCV(cv=10, max_iter=3000, n_alphas=10)\n",
    "predicted_encv = model_selection.cross_val_predict(encv, X, y.ravel(), cv=20)\n",
    "score_encv = model_selection.cross_val_score(encv, X, y.ravel(), scoring='r2', cv=20)"
   ]
  },
  {
   "cell_type": "markdown",
   "metadata": {},
   "source": [
    "## Q3:  Compute 95% confidence interval for difference in means of mean squared error between 2 models, assuming no knowledge about $\\sigma$."
   ]
  },
  {
   "cell_type": "code",
   "execution_count": 28,
   "metadata": {},
   "outputs": [
    {
     "data": {
      "text/plain": [
       "(-0.17530944722139463, 2.0787901285091244)"
      ]
     },
     "execution_count": 28,
     "metadata": {},
     "output_type": "execute_result"
    }
   ],
   "source": [
    "errors = np.sqrt((predicted - y)**2) \n",
    "errors_encv = np.sqrt((predicted_encv - y)**2) \n",
    "\n",
    "error_mean = np.mean(errors)\n",
    "error_mean_encv = np.mean(errors_encv)\n",
    "n = errors.shape[0]\n",
    "\n",
    "error_var = np.var(errors, ddof=1)\n",
    "error_var_encv = np.var(errors_encv, ddof=1)\n",
    "var = (error_var + error_var_encv) / 2\n",
    "\n",
    "\n",
    "_tconfint_generic(error_mean - error_mean_encv, np.sqrt(var), 2 * n - 2, 0.05, 'two-sided')"
   ]
  },
  {
   "cell_type": "markdown",
   "metadata": {
    "collapsed": true
   },
   "source": [
    "## Q4: Implement UCB1"
   ]
  },
  {
   "cell_type": "code",
   "execution_count": 33,
   "metadata": {},
   "outputs": [],
   "source": [
    "class UCBModel:\n",
    "    def __init__(self, prob, mean=0):\n",
    "        self.prob = prob\n",
    "        self.mean = mean\n",
    "\n",
    "            \n",
    "        self.size = int(mean > 0)\n",
    "                \n",
    "    def update(self, reward):\n",
    "        self.size += 1\n",
    "        self.mean = ((self.size - 1) * self.mean + reward) / self.size\n",
    "    \n",
    "    def __call__(self):\n",
    "        return np.random.uniform(0, 1) < self.prob"
   ]
  },
  {
   "cell_type": "code",
   "execution_count": 35,
   "metadata": {},
   "outputs": [
    {
     "name": "stdout",
     "output_type": "stream",
     "text": [
      "num_explored: 101\n",
      "num_exploited: 1899\n",
      "num_best: 1487\n",
      "rewards sum: 1675.0\n"
     ]
    },
    {
     "data": {
      "image/png": "[encoded data removed]",
      "text/plain": [
       "<Figure size 640x480 with 1 Axes>"
      ]
     },
     "metadata": {},
     "output_type": "display_data"
    }
   ],
   "source": [
    "PROBABILITIES = [0.1, 0.2, 0.4, 0.6, 0.8, 0.9]\n",
    "ITRATIONS = 2000\n",
    "\n",
    "\n",
    "models = [UCBModel(probability) for probability in PROBABILITIES]\n",
    "rewards = np.zeros(ITRATIONS)\n",
    "\n",
    "num_explored = 0\n",
    "num_exploited = 0\n",
    "num_best = 0\n",
    "\n",
    "best_index = np.argmax([model.prob for model in models])\n",
    "\n",
    "\n",
    "for i in range(ITRATIONS):\n",
    "    if np.random.uniform(0, 1) < 0.05:\n",
    "        num_explored += 1\n",
    "        index = np.random.randint(0, len(models) - 1)\n",
    "    else:\n",
    "        num_exploited += 1\n",
    "        index = np.argmax([\n",
    "            model.mean + np.sqrt(2 * np.log(i + 1) / (model.size + 0.001))\n",
    "            for model in models\n",
    "        ])\n",
    "\n",
    "    if index == best_index:\n",
    "        num_best += 1\n",
    "\n",
    "    reward = models[index]()\n",
    "    rewards[i] = reward\n",
    "    models[index].update(reward)\n",
    "\n",
    "    \n",
    "print(f'num_explored: {num_explored}')\n",
    "print(f'num_exploited: {num_exploited}')\n",
    "print(f'num_best: {num_best}')\n",
    "print(f'rewards sum: {rewards.sum()}')\n",
    "\n",
    "\n",
    "plt.plot(np.ones(ITRATIONS) * np.max(PROBABILITIES))\n",
    "plt.plot(np.cumsum(rewards) / (np.arange(ITRATIONS) + 1))\n",
    "plt.show()"
   ]
  },
  {
   "cell_type": "code",
   "execution_count": null,
   "metadata": {},
   "outputs": [],
   "source": []
  }
 ],
 "metadata": {
  "kernelspec": {
   "display_name": "python39",
   "language": "python",
   "name": "python39"
  },
  "language_info": {
   "codemirror_mode": {
    "name": "ipython",
    "version": 3
   },
   "file_extension": ".py",
   "mimetype": "text/x-python",
   "name": "python",
   "nbconvert_exporter": "python",
   "pygments_lexer": "ipython3",
   "version": "3.9.0"
  },
  "vscode": {
   "interpreter": {
    "hash": "916dbcbb3f70747c44a77c7bcd40155683ae19c65e1c03b4aa3499c5328201f1"
   }
  }
 },
 "nbformat": 4,
 "nbformat_minor": 1
}
