{
 "cells": [
  {
   "cell_type": "markdown",
   "id": "51363384",
   "metadata": {},
   "source": [
    "# Homework 1 Rubenchik Mark"
   ]
  },
  {
   "cell_type": "markdown",
   "id": "5a4be48d",
   "metadata": {},
   "source": [
    "Мы собираемся работать со следующим набором данных: ток жидкости в трубке. Некоторая статистика собрана для набора данных, в т.ч. среднее значение, асимметрия, эксцесс и т.д. Мы прогнозируем скорость потока (\"tohn/час\"). Нам нужно создать доверительные и прогностические интервалы."
   ]
  },
  {
   "cell_type": "code",
   "execution_count": 1,
   "id": "e2e1c0e2",
   "metadata": {},
   "outputs": [],
   "source": [
    "%matplotlib inline\n",
    "\n",
    "import numpy as np\n",
    "from sklearn import datasets, linear_model, preprocessing, model_selection\n",
    "from sklearn.utils import shuffle\n",
    "import matplotlib.pyplot as plt\n",
    "import pandas as pd\n",
    "\n",
    "from scipy import stats as st\n",
    "from statsmodels.stats.weightstats import _zconfint_generic, _tconfint_generic\n",
    "\n",
    "from scipy.stats import beta"
   ]
  },
  {
   "cell_type": "code",
   "execution_count": 2,
   "id": "545381fe",
   "metadata": {},
   "outputs": [],
   "source": [
    "data = pd.read_csv('exxsol_data.csv', sep=';', header=(0))"
   ]
  },
  {
   "cell_type": "code",
   "execution_count": 3,
   "id": "197e4882",
   "metadata": {},
   "outputs": [
    {
     "name": "stdout",
     "output_type": "stream",
     "text": [
      "<class 'pandas.core.frame.DataFrame'>\n",
      "RangeIndex: 700 entries, 0 to 699\n",
      "Data columns (total 11 columns):\n",
      " #   Column     Non-Null Count  Dtype  \n",
      "---  ------     --------------  -----  \n",
      " 0   mean       700 non-null    float64\n",
      " 1   std        700 non-null    float64\n",
      " 2   skew       700 non-null    float64\n",
      " 3   kurt       700 non-null    float64\n",
      " 4   RMS        700 non-null    float64\n",
      " 5   crest      700 non-null    float64\n",
      " 6   freq_peak  700 non-null    float64\n",
      " 7   shan       700 non-null    float64\n",
      " 8   perm       700 non-null    float64\n",
      " 9   temp       700 non-null    float64\n",
      " 10  tohn/hour  700 non-null    float64\n",
      "dtypes: float64(11)\n",
      "memory usage: 60.3 KB\n"
     ]
    }
   ],
   "source": [
    "data.info()"
   ]
  },
  {
   "cell_type": "code",
   "execution_count": 4,
   "id": "53e6b1ca",
   "metadata": {},
   "outputs": [],
   "source": [
    "y = data['tohn/hour']\n",
    "freq_temp = data[['freq_peak','temp']]"
   ]
  },
  {
   "cell_type": "code",
   "execution_count": 5,
   "id": "a07b128b",
   "metadata": {},
   "outputs": [],
   "source": [
    "freq_temp, y = shuffle(freq_temp, y)\n",
    "\n",
    "# split data into training and testing sets\n",
    "#from sklearn.model_selection import train_test_split\n",
    "#train_freq, test_freq, train_y, test_y = train_test_split(freq, y, train_size=0.7, random_state=2)\n",
    "\n",
    "lr = linear_model.LinearRegression()\n",
    "predicted = model_selection.cross_val_predict(lr, freq_temp, y.ravel(), cv=20)\n",
    "score = model_selection.cross_val_score(lr, freq_temp, y,scoring='r2',cv=20)"
   ]
  },
  {
   "cell_type": "markdown",
   "id": "ddc49b13",
   "metadata": {},
   "source": [
    "## Q0: Построить точечную оценку среднего коэф r2 и его отклонения"
   ]
  },
  {
   "cell_type": "code",
   "execution_count": 6,
   "id": "3d7af78e",
   "metadata": {},
   "outputs": [
    {
     "data": {
      "text/plain": [
       "(0.7173407873355995, 0.9438972580627414)"
      ]
     },
     "execution_count": 6,
     "metadata": {},
     "output_type": "execute_result"
    }
   ],
   "source": [
    "X = score\n",
    "n = len(X)\n",
    "X_mean = np.mean(X)\n",
    "S_X = np.var(X, ddof=1)\n",
    "\n",
    "_tconfint_generic(X_mean, np.sqrt(S_X), n - 1, 0.05, 'two-sided')"
   ]
  },
  {
   "cell_type": "markdown",
   "id": "05324c85",
   "metadata": {},
   "source": [
    "## Q1: Predicted — это массив с предсказаниями метки y. При условии, что $\\sigma = 0.1$, вычислить 95% доверительный интервал и прогностический интервал для среднеквадратичной ошибки. "
   ]
  },
  {
   "cell_type": "code",
   "execution_count": 7,
   "id": "f3bb4779",
   "metadata": {},
   "outputs": [
    {
     "name": "stdout",
     "output_type": "stream",
     "text": [
      "confidence_int =  (0.1253391792290629, 0.5173319761370737) \n",
      "predictive_int =  (0.1250591843741286, 0.517611970992008)\n"
     ]
    }
   ],
   "source": [
    "error = np.sqrt((y - predicted)**2)  \n",
    "X_mean = np.mean(error)\n",
    "sigma = 0.1\n",
    "n = len(error)\n",
    "\n",
    "confidence_int = _zconfint_generic(X_mean, 0.1, 0.05, 'two-sided')\n",
    "predictive_int = _zconfint_generic(X_mean, sigma*(1+1/n), 0.05, 'two-sided')\n",
    "\n",
    "print(\"confidence_int = \", confidence_int, \"\\n\" + \"predictive_int = \", predictive_int)"
   ]
  },
  {
   "cell_type": "markdown",
   "id": "e27bc7c6",
   "metadata": {},
   "source": [
    "## Q2:  Вычислите 95% достоверный и предсказанный интервалы для среднеквадратичной ошибки, предполагая, что ничего не известно о $\\sigma$."
   ]
  },
  {
   "cell_type": "code",
   "execution_count": 8,
   "id": "e3b1a6f5",
   "metadata": {},
   "outputs": [
    {
     "name": "stdout",
     "output_type": "stream",
     "text": [
      "669    0.271039\n",
      "177    0.209853\n",
      "22     0.367474\n",
      "25     0.338178\n",
      "432    0.142112\n",
      "         ...   \n",
      "149    0.197715\n",
      "332    0.407761\n",
      "383    0.432418\n",
      "124    0.220976\n",
      "505    0.394304\n",
      "Name: tohn/hour, Length: 700, dtype: float64\n",
      "confidence_int =  (-0.15870766391743152, 0.8013788192835681) \n",
      "predictive_int =  (-0.15939343997686078, 0.8020645953429975)\n"
     ]
    }
   ],
   "source": [
    "error = np.sqrt((y - predicted)**2) \n",
    "print(error)\n",
    "X_mean = np.mean(error)\n",
    "sigma = 0.1\n",
    "n = len(error)\n",
    "S_X = np.var(error, ddof=1)\n",
    "\n",
    "confidence_int = _tconfint_generic(X_mean, np.sqrt(S_X), n-1, 0.05, 'two-sided')\n",
    "predictive_int = _tconfint_generic(X_mean, np.sqrt(S_X)*(1+1/n), n-1, 0.05,'two-sided')\n",
    "\n",
    "print(\"confidence_int = \", confidence_int,  \"\\n\" + \"predictive_int = \", predictive_int)"
   ]
  },
  {
   "cell_type": "markdown",
   "id": "5fc06686",
   "metadata": {},
   "source": [
    "Мы можем использовать дополнительные функции и более сложную модель, например ElasticNet."
   ]
  },
  {
   "cell_type": "code",
   "execution_count": 9,
   "id": "d051afd2",
   "metadata": {},
   "outputs": [],
   "source": [
    "y = data['tohn/hour']\n",
    "X = data.drop(['tohn/hour'],axis=1)\n",
    "X = preprocessing.scale(X)\n",
    "X, y = shuffle(X, y)\n",
    "\n",
    "encv = linear_model.ElasticNetCV(cv=10,max_iter=3000, n_alphas=10)\n",
    "predicted_encv = model_selection.cross_val_predict(encv, X, y.ravel(), cv=20)\n",
    "score_encv = model_selection.cross_val_score(encv,X, y.ravel(),scoring='r2',cv=20)"
   ]
  },
  {
   "cell_type": "markdown",
   "id": "8fecf449",
   "metadata": {},
   "source": [
    "## Q3:  Вычислите 95% доверительный интервал для отклонения средних значений среднеквадратичной ошибки между двумя моделями, предполагая, что ничего не известно о $\\sigma$."
   ]
  },
  {
   "cell_type": "code",
   "execution_count": 10,
   "id": "4acaf71e",
   "metadata": {},
   "outputs": [
    {
     "data": {
      "text/plain": [
       "(-0.21272472800452447, 2.0040630940582815)"
      ]
     },
     "execution_count": 10,
     "metadata": {},
     "output_type": "execute_result"
    }
   ],
   "source": [
    "error = np.sqrt((y - predicted)**2) \n",
    "error_encv = np.sqrt((y - predicted_encv)**2) \n",
    "\n",
    "\n",
    "n,m = len(error), len(error_encv)\n",
    "X_mean, Y_mean = np.mean(error), np.mean(error_encv)\n",
    "S_X, S_Y = np.var(error, ddof=1), np.var(error_encv, ddof=1)\n",
    "S_P = ((n-1) * S_X + (m-1) * S_Y) / (n + m - 2)\n",
    "\n",
    "\n",
    "_tconfint_generic(X_mean - Y_mean,np.sqrt(S_P), n + m - 2, 0.05, 'two-sided')"
   ]
  },
  {
   "cell_type": "markdown",
   "id": "0024927b",
   "metadata": {},
   "source": [
    "## Q4: Реализовать UCB1"
   ]
  },
  {
   "cell_type": "code",
   "execution_count": 11,
   "id": "e447af4d",
   "metadata": {},
   "outputs": [],
   "source": [
    "class Model:\n",
    "    def __init__(self, probability, init_mean=0):\n",
    "        self.probability = probability\n",
    "        self.mean = init_mean\n",
    "        if init_mean > 0:\n",
    "             self.sample_size = 1\n",
    "        else:\n",
    "             self.sample_size = 0\n",
    "    \n",
    "    def execute(self):\n",
    "        return np.random.uniform(0,1) < self.probability\n",
    "\n",
    "    def update(self, x):\n",
    "        self.sample_size += 1\n",
    "        self.mean = ((self.sample_size - 1)*self.mean + x) / self.sample_size"
   ]
  },
  {
   "cell_type": "code",
   "execution_count": 12,
   "id": "7daa5392",
   "metadata": {},
   "outputs": [],
   "source": [
    "def experiment(model_probs, eps, total=1000):\n",
    "    models = [Model(p, init_mean=0) for p in model_probs]\n",
    "    rewards = np.zeros(total)\n",
    "\n",
    "    num_times_explored = 0\n",
    "    num_times_exploited = 0\n",
    "    num_optimal = 0\n",
    "\n",
    "    optimal_j = np.argmax([m.probability for m in models])\n",
    "    print(\"optimal j:\", optimal_j)\n",
    "    \n",
    "    for i in range(total):\n",
    "        if np.random.uniform(0,1) < eps:\n",
    "            num_times_explored += 1\n",
    "            j = np.random.randint(len(models))\n",
    "        else:\n",
    "            num_times_exploited += 1\n",
    "            j = np.argmax([m.mean + np.sqrt(2*np.log(i)/m.sample_size) for m in models])\n",
    "        if j == optimal_j:\n",
    "            num_optimal += 1\n",
    "            \n",
    "        # execute best model\n",
    "        x = models[j].execute()\n",
    "\n",
    "        # update rewards \n",
    "        rewards[i] = x\n",
    "\n",
    "        # update the distribution for the executed model\n",
    "        models[j].update(x)\n",
    "        \n",
    "    for m in models:\n",
    "        print(\"mean estimate:\", m.mean)\n",
    "        \n",
    "    # print total reward\n",
    "    print(\"total reward earned:\", rewards.sum())\n",
    "    print(\"overall win rate:\", rewards.sum() / total)\n",
    "    print(\"num_times_explored:\", num_times_explored)\n",
    "    print(\"num_times_exploited:\", num_times_exploited)\n",
    "    print(\"num times selected optimal bandit:\", num_optimal)\n",
    "\n",
    "    # plot the results\n",
    "    cumulative_rewards = np.cumsum(rewards)\n",
    "    win_rates = cumulative_rewards / (np.arange(total) + 1)\n",
    "    plt.plot(win_rates)\n",
    "    plt.plot(np.ones(total)*np.max(model_probs))\n",
    "    plt.show()"
   ]
  },
  {
   "cell_type": "code",
   "execution_count": 13,
   "id": "a7787d13",
   "metadata": {},
   "outputs": [
    {
     "name": "stdout",
     "output_type": "stream",
     "text": [
      "optimal j: 2\n",
      "mean estimate: 0.21428571428571427\n",
      "mean estimate: 0.4451612903225807\n",
      "mean estimate: 0.7501276943508015\n",
      "total reward earned: 7424.0\n"
     ]
    },
    {
     "name": "stderr",
     "output_type": "stream",
     "text": [
      "C:\\Users\\markr\\AppData\\Local\\Temp\\ipykernel_31160\\3334688345.py:18: RuntimeWarning: divide by zero encountered in log\n",
      "  j = np.argmax([m.mean + np.sqrt(2*np.log(i)/m.sample_size) for m in models])\n",
      "C:\\Users\\markr\\AppData\\Local\\Temp\\ipykernel_31160\\3334688345.py:18: RuntimeWarning: invalid value encountered in sqrt\n",
      "  j = np.argmax([m.mean + np.sqrt(2*np.log(i)/m.sample_size) for m in models])\n",
      "C:\\Users\\markr\\AppData\\Local\\Temp\\ipykernel_31160\\3334688345.py:18: RuntimeWarning: invalid value encountered in double_scalars\n",
      "  j = np.argmax([m.mean + np.sqrt(2*np.log(i)/m.sample_size) for m in models])\n",
      "C:\\Users\\markr\\AppData\\Local\\Temp\\ipykernel_31160\\3334688345.py:18: RuntimeWarning: divide by zero encountered in double_scalars\n",
      "  j = np.argmax([m.mean + np.sqrt(2*np.log(i)/m.sample_size) for m in models])\n"
     ]
    },
    {
     "name": "stdout",
     "output_type": "stream",
     "text": [
      "overall win rate: 0.7424\n",
      "num_times_explored: 0\n",
      "num_times_exploited: 10000\n",
      "num times selected optimal bandit: 9789\n"
     ]
    },
    {
     "data": {
      "image/png": "[encoded data removed]",
      "text/plain": [
       "<Figure size 432x288 with 1 Axes>"
      ]
     },
     "metadata": {
      "needs_background": "light"
     },
     "output_type": "display_data"
    }
   ],
   "source": [
    "total = 10000\n",
    "eps = 0\n",
    "model_probs = [0.2, 0.5, 0.75]\n",
    "experiment(model_probs, eps, total)"
   ]
  }
 ],
 "metadata": {
  "kernelspec": {
   "display_name": "Python 3 (ipykernel)",
   "language": "python",
   "name": "python3"
  },
  "language_info": {
   "codemirror_mode": {
    "name": "ipython",
    "version": 3
   },
   "file_extension": ".py",
   "mimetype": "text/x-python",
   "name": "python",
   "nbconvert_exporter": "python",
   "pygments_lexer": "ipython3",
   "version": "3.9.12"
  }
 },
 "nbformat": 4,
 "nbformat_minor": 5
}
