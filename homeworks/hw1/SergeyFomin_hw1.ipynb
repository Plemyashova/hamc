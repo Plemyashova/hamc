{
 "cells": [
  {
   "cell_type": "markdown",
   "metadata": {},
   "source": [
    "# Homework 1\n",
    "***\n",
    "\n",
    "We are going to work with the following dataset: fluid current in a tube.\n",
    "Some statistics are collected for dataset, incl. mean, skewness, kurtosis, etc. We are predicting flow rate ('tohn/hour'). We need to build confidence and predictive intervals."
   ]
  },
  {
   "cell_type": "code",
   "execution_count": 1,
   "metadata": {},
   "outputs": [],
   "source": [
    "%matplotlib inline\n",
    "\n",
    "import numpy as np\n",
    "from sklearn import datasets, linear_model, preprocessing, model_selection\n",
    "from sklearn.utils import shuffle\n",
    "import matplotlib.pyplot as plt\n",
    "import pandas as pd\n",
    "\n",
    "from scipy import stats as st\n",
    "from statsmodels.stats.weightstats import _zconfint_generic, _tconfint_generic"
   ]
  },
  {
   "cell_type": "code",
   "execution_count": 2,
   "metadata": {},
   "outputs": [],
   "source": [
    "df = pd.read_csv('exxsol_data.csv', sep=';', header=(0))"
   ]
  },
  {
   "cell_type": "markdown",
   "metadata": {},
   "source": [
    "There are 10 features and 1 label to predict:"
   ]
  },
  {
   "cell_type": "code",
   "execution_count": 3,
   "metadata": {},
   "outputs": [
    {
     "name": "stdout",
     "output_type": "stream",
     "text": [
      "['mean' 'std' 'skew' 'kurt' 'RMS' 'crest' 'freq_peak' 'shan' 'perm' 'temp'\n",
      " 'tohn/hour']\n"
     ]
    }
   ],
   "source": [
    "print(df.columns.values)"
   ]
  },
  {
   "cell_type": "code",
   "execution_count": 4,
   "metadata": {},
   "outputs": [],
   "source": [
    "y = df['tohn/hour']\n",
    "freq_temp = df[['freq_peak','temp']]"
   ]
  },
  {
   "cell_type": "markdown",
   "metadata": {},
   "source": [
    "Physics tells us that flow rate is a function of a frequency peak and temperature."
   ]
  },
  {
   "cell_type": "code",
   "execution_count": 5,
   "metadata": {},
   "outputs": [],
   "source": [
    "freq_temp, y = shuffle(freq_temp, y)\n",
    "\n",
    "from sklearn.model_selection import train_test_split\n",
    "train_freq, test_freq, train_y, test_y = train_test_split(freq_temp, y, train_size=0.7, random_state=2)\n",
    "\n",
    "lr = linear_model.LinearRegression()\n",
    "predicted = model_selection.cross_val_predict(lr, freq_temp, y.ravel(), cv=20)\n",
    "score = model_selection.cross_val_score(lr, freq_temp, y, scoring='r2', cv=20)"
   ]
  },
  {
   "cell_type": "code",
   "execution_count": 6,
   "metadata": {},
   "outputs": [
    {
     "data": {
      "text/plain": [
       "array([0.86075305, 0.80873803, 0.81633392, 0.81733903, 0.78012156,\n",
       "       0.78573114, 0.79387123, 0.75393515, 0.86858519, 0.83364093,\n",
       "       0.82354355, 0.87911824, 0.91796985, 0.92542023, 0.80693505,\n",
       "       0.87592755, 0.92093275, 0.7390366 , 0.83060354, 0.7741745 ])"
      ]
     },
     "execution_count": 6,
     "metadata": {},
     "output_type": "execute_result"
    }
   ],
   "source": [
    "score"
   ]
  },
  {
   "cell_type": "markdown",
   "metadata": {},
   "source": [
    "## Q0: Build point estimate for mean r2 score and its deviation"
   ]
  },
  {
   "cell_type": "code",
   "execution_count": 7,
   "metadata": {},
   "outputs": [
    {
     "data": {
      "text/plain": [
       "(0.7166242141093443, 0.9446468940121887)"
      ]
     },
     "execution_count": 7,
     "metadata": {},
     "output_type": "execute_result"
    }
   ],
   "source": [
    "mean = np.mean(score)\n",
    "var = np.var(score, ddof=1)\n",
    "\n",
    "_tconfint_generic(mean, np.sqrt(var), len(score) - 1, 0.05, 'two-sided')"
   ]
  },
  {
   "cell_type": "markdown",
   "metadata": {},
   "source": [
    "## Q1: Predicted is an array with predictions of the label y. Assuming, that $\\sigma = 0.1$, compute 95% confidence and predictive interval for mean squared error. "
   ]
  },
  {
   "cell_type": "code",
   "execution_count": 8,
   "metadata": {},
   "outputs": [
    {
     "name": "stdout",
     "output_type": "stream",
     "text": [
      "confidence_interval = (0.12523484888155323, 0.517227645789564)\n",
      "predictive_interval = (0.12495485402661896, 0.5175076406444983)\n"
     ]
    }
   ],
   "source": [
    "errors = np.sqrt((predicted - y)**2)  \n",
    "error_mean = np.mean(errors)\n",
    "n = len(errors)\n",
    "\n",
    "confidence_interval = _zconfint_generic(error_mean, 0.1, 0.05, 'two-sided')\n",
    "print(f'confidence_interval = {confidence_interval}')\n",
    "\n",
    "predictive_interval = _zconfint_generic(error_mean, (n+1)/n/10, 0.05, 'two-sided')\n",
    "print(f'predictive_interval = {predictive_interval}')"
   ]
  },
  {
   "cell_type": "markdown",
   "metadata": {},
   "source": [
    "## Q2:  Compute 95% confidence and predicted intervals for mean squared error, assuming no knowledge about $\\sigma$."
   ]
  },
  {
   "cell_type": "code",
   "execution_count": 9,
   "metadata": {},
   "outputs": [
    {
     "name": "stdout",
     "output_type": "stream",
     "text": [
      "confidence_interval = (-0.15742616442405793, 0.7998886590951753)\n",
      "predictive_interval = (-0.15810996072657169, 0.800572455397689)\n"
     ]
    }
   ],
   "source": [
    "errors = np.sqrt((predicted - y)**2)  \n",
    "error_mean = np.mean(errors)\n",
    "error_var = np.var(errors, ddof=1)\n",
    "n = len(errors)\n",
    "\n",
    "confidence_interval = _tconfint_generic(error_mean, np.sqrt(error_var), n-1, 0.05, 'two-sided')\n",
    "print(f'confidence_interval = {confidence_interval}')\n",
    "\n",
    "predictive_interval = _tconfint_generic(error_mean, np.sqrt(error_var)*(n+1)/n, n-1, 0.05,'two-sided')\n",
    "print(f'predictive_interval = {predictive_interval}')"
   ]
  },
  {
   "cell_type": "markdown",
   "metadata": {},
   "source": [
    "We can use additional features and more complex model, e.g. ElasticNet."
   ]
  },
  {
   "cell_type": "code",
   "execution_count": 10,
   "metadata": {},
   "outputs": [],
   "source": [
    "y = df['tohn/hour']\n",
    "X = df.drop(['tohn/hour'], axis=1)\n",
    "X = preprocessing.scale(X)\n",
    "X, y = shuffle(X, y)\n",
    "\n",
    "encv = linear_model.ElasticNetCV(cv=10, max_iter=3000, n_alphas=10)\n",
    "predicted_encv = model_selection.cross_val_predict(encv, X, y.ravel(), cv=20)\n",
    "score_encv = model_selection.cross_val_score(encv, X, y.ravel(), scoring='r2', cv=20)"
   ]
  },
  {
   "cell_type": "markdown",
   "metadata": {},
   "source": [
    "## Q3:  Compute 95% confidence interval for difference in means of mean squared error between 2 models, assuming no knowledge about $\\sigma$."
   ]
  },
  {
   "cell_type": "code",
   "execution_count": 11,
   "metadata": {},
   "outputs": [
    {
     "data": {
      "text/plain": [
       "(-0.20302884480327665, 2.0908053993994056)"
      ]
     },
     "execution_count": 11,
     "metadata": {},
     "output_type": "execute_result"
    }
   ],
   "source": [
    "errors = np.sqrt((predicted - y)**2) \n",
    "errors_encv = np.sqrt((predicted_encv - y)**2) \n",
    "\n",
    "error_mean = np.mean(errors)\n",
    "error_mean_encv = np.mean(errors_encv)\n",
    "n = len(errors)\n",
    "\n",
    "error_var = np.var(errors, ddof=1)\n",
    "error_var_encv = np.var(errors_encv, ddof=1)\n",
    "var = (error_var + error_var_encv) / 2\n",
    "\n",
    "\n",
    "_tconfint_generic(error_mean - error_mean_encv, np.sqrt(var), 2*n - 2, 0.05, 'two-sided')"
   ]
  },
  {
   "cell_type": "markdown",
   "metadata": {
    "collapsed": true
   },
   "source": [
    "## Q4: Implement UCB1"
   ]
  },
  {
   "cell_type": "code",
   "execution_count": 12,
   "metadata": {},
   "outputs": [],
   "source": [
    "class UCBModel:\n",
    "    def __init__(self, probability, mean=0):\n",
    "        self.probability = probability\n",
    "        self.mean = mean\n",
    "        if mean > 0:\n",
    "             self.size = 1\n",
    "        else:\n",
    "             self.size = 0\n",
    "                \n",
    "    def update(self, reward):\n",
    "        self.size += 1\n",
    "        self.mean = ((self.size - 1) * self.mean + reward) / self.size\n",
    "    \n",
    "    def __call__(self):\n",
    "        return np.random.uniform(0, 1) < self.probability"
   ]
  },
  {
   "cell_type": "code",
   "execution_count": 13,
   "metadata": {},
   "outputs": [
    {
     "name": "stdout",
     "output_type": "stream",
     "text": [
      "num_explored: 91\n",
      "num_exploited: 1909\n",
      "num_best: 1314\n",
      "rewards sum: 1679.0\n"
     ]
    },
    {
     "data": {
      "image/png": "[encoded data removed]",
      "text/plain": [
       "<Figure size 640x480 with 1 Axes>"
      ]
     },
     "metadata": {},
     "output_type": "display_data"
    }
   ],
   "source": [
    "PROBABILITIES = [0.1, 0.2, 0.4, 0.6, 0.8, 0.9]\n",
    "ITRATIONS = 2000\n",
    "\n",
    "\n",
    "models = [UCBModel(probability) for probability in PROBABILITIES]\n",
    "rewards = np.zeros(ITRATIONS)\n",
    "\n",
    "num_explored = 0\n",
    "num_exploited = 0\n",
    "num_best = 0\n",
    "\n",
    "best_index = np.argmax([model.probability for model in models])\n",
    "\n",
    "\n",
    "for i in range(ITRATIONS):\n",
    "    if np.random.uniform(0, 1) < 0.05:\n",
    "        num_explored += 1\n",
    "        index = np.random.randint(0, len(models) - 1)\n",
    "    else:\n",
    "        num_exploited += 1\n",
    "        index = np.argmax([\n",
    "            model.mean + np.sqrt(2 * np.log(i + 1) / (model.size + 0.001))\n",
    "            for model in models\n",
    "        ])\n",
    "\n",
    "    if index == best_index:\n",
    "        num_best += 1\n",
    "\n",
    "    reward = models[index]()\n",
    "    rewards[i] = reward\n",
    "    models[index].update(reward)\n",
    "\n",
    "    \n",
    "print(f'num_explored: {num_explored}')\n",
    "print(f'num_exploited: {num_exploited}')\n",
    "print(f'num_best: {num_best}')\n",
    "print(f'rewards sum: {rewards.sum()}')\n",
    "\n",
    "\n",
    "plt.plot(np.ones(ITRATIONS) * np.max(PROBABILITIES))\n",
    "plt.plot(np.cumsum(rewards) / (np.arange(ITRATIONS) + 1))\n",
    "plt.show()"
   ]
  }
 ],
 "metadata": {
  "kernelspec": {
   "display_name": "Python 3 (ipykernel)",
   "language": "python",
   "name": "python3"
  },
  "language_info": {
   "codemirror_mode": {
    "name": "ipython",
    "version": 3
   },
   "file_extension": ".py",
   "mimetype": "text/x-python",
   "name": "python",
   "nbconvert_exporter": "python",
   "pygments_lexer": "ipython3",
   "version": "3.11.1"
  },
  "vscode": {
   "interpreter": {
    "hash": "916dbcbb3f70747c44a77c7bcd40155683ae19c65e1c03b4aa3499c5328201f1"
   }
  }
 },
 "nbformat": 4,
 "nbformat_minor": 1
}
