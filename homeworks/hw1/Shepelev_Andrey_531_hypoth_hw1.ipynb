{
 "cells": [
  {
   "cell_type": "markdown",
   "metadata": {},
   "source": [
    "# Homework 1\n",
    "***\n",
    "\n",
    "We are going to work with the following dataset: fluid current in a tube.\n",
    "Some statistics are collected for dataset, incl. mean, skewness, kurtosis, etc. We are predicting flow rate ('tohn/hour'). We need to build confidence and predictive intervals."
   ]
  },
  {
   "cell_type": "code",
   "execution_count": 1,
   "metadata": {},
   "outputs": [],
   "source": [
    "%matplotlib inline\n",
    "\n",
    "import numpy as np\n",
    "from sklearn import datasets, linear_model, preprocessing, model_selection\n",
    "from sklearn.utils import shuffle\n",
    "import matplotlib.pyplot as plt\n",
    "import pandas as pd"
   ]
  },
  {
   "cell_type": "code",
   "execution_count": 2,
   "metadata": {},
   "outputs": [],
   "source": [
    "df = pd.read_csv('exxsol_data.csv', sep=';', header=(0))"
   ]
  },
  {
   "cell_type": "markdown",
   "metadata": {},
   "source": [
    "There are 10 features and 1 label to predict:"
   ]
  },
  {
   "cell_type": "code",
   "execution_count": 3,
   "metadata": {},
   "outputs": [
    {
     "name": "stdout",
     "output_type": "stream",
     "text": [
      "['mean' 'std' 'skew' 'kurt' 'RMS' 'crest' 'freq_peak' 'shan' 'perm' 'temp'\n",
      " 'tohn/hour']\n"
     ]
    }
   ],
   "source": [
    "print(df.columns.values)"
   ]
  },
  {
   "cell_type": "code",
   "execution_count": 4,
   "metadata": {},
   "outputs": [],
   "source": [
    "y = df['tohn/hour']\n",
    "freq_temp = df[['freq_peak','temp']]"
   ]
  },
  {
   "cell_type": "markdown",
   "metadata": {},
   "source": [
    "Physics tells us that flow rate is a function of a frequency peak and temperature."
   ]
  },
  {
   "cell_type": "code",
   "execution_count": 6,
   "metadata": {},
   "outputs": [],
   "source": [
    "freq_temp, y = shuffle(freq_temp, y)\n",
    "\n",
    "# split data into training and testing sets\n",
    "#from sklearn.model_selection import train_test_split\n",
    "#train_freq, test_freq, train_y, test_y = train_test_split(freq, y, train_size=0.7, random_state=2)\n",
    "\n",
    "lr = linear_model.LinearRegression()\n",
    "predicted = model_selection.cross_val_predict(\n",
    "    lr, freq_temp, y.ravel(), cv=20)\n",
    "score = model_selection.cross_val_score(lr, freq_temp, y,\n",
    "                                         scoring='r2',cv=20)"
   ]
  },
  {
   "cell_type": "markdown",
   "metadata": {},
   "source": [
    "## Q0: Build point estimate for mean r2 score and its deviation"
   ]
  },
  {
   "cell_type": "code",
   "execution_count": 7,
   "metadata": {},
   "outputs": [
    {
     "data": {
      "text/plain": [
       "(0.6308187360560599, 1.008370073819271)"
      ]
     },
     "execution_count": 7,
     "metadata": {},
     "output_type": "execute_result"
    }
   ],
   "source": [
    "import pandas as ps\n",
    "from scipy import stats as st\n",
    "from statsmodels.stats.weightstats import _zconfint_generic, _tconfint_generic\n",
    "\n",
    "X = score\n",
    "n = len(X)\n",
    "X_mean = np.mean(X)\n",
    "S_X = np.var(X, ddof=1)\n",
    "\n",
    "_tconfint_generic(X_mean, np.sqrt(S_X), n - 1, 0.05, 'two-sided')"
   ]
  },
  {
   "cell_type": "markdown",
   "metadata": {},
   "source": [
    "## Q1: Predicted is an array with predictions of the label y. Assuming, that $\\sigma = 0.1$, compute 95% confidence and predictive interval for mean squared error. "
   ]
  },
  {
   "cell_type": "code",
   "execution_count": 8,
   "metadata": {
    "scrolled": true
   },
   "outputs": [
    {
     "name": "stdout",
     "output_type": "stream",
     "text": [
      "confidence_int =  (0.12607264361209825, 0.518065440520109) \n",
      "predictive_int =  (0.12579264875716395, 0.5183454353750434)\n"
     ]
    }
   ],
   "source": [
    "error = np.sqrt((y - predicted)**2)  \n",
    "X_mean = np.mean(error)\n",
    "sigma = 0.1\n",
    "n = len(error)\n",
    "\n",
    "confidence_int = _zconfint_generic(X_mean, 0.1, 0.05, 'two-sided')\n",
    "predictive_int = _zconfint_generic(X_mean, sigma*(1+1/n), 0.05, 'two-sided')\n",
    "\n",
    "print(\"confidence_int = \", confidence_int, \"\\n\" + \"predictive_int = \", predictive_int)"
   ]
  },
  {
   "cell_type": "markdown",
   "metadata": {},
   "source": [
    "## Q2:  Compute 95% confidence and predicted intervals for mean squared error, assuming no knowledge about $\\sigma$."
   ]
  },
  {
   "cell_type": "code",
   "execution_count": 9,
   "metadata": {},
   "outputs": [
    {
     "name": "stdout",
     "output_type": "stream",
     "text": [
      "573    0.406659\n",
      "592    0.396659\n",
      "28     0.312112\n",
      "382    0.424592\n",
      "511    0.410784\n",
      "         ...   \n",
      "375    0.384889\n",
      "692    0.168474\n",
      "263    0.208680\n",
      "391    0.395792\n",
      "539    0.382617\n",
      "Name: tohn/hour, Length: 700, dtype: float64\n",
      "confidence_int =  (-0.15699128455398598, 0.8011293686861933) \n",
      "predictive_int =  (-0.15767565644915754, 0.8018137405813648)\n"
     ]
    }
   ],
   "source": [
    "error = np.sqrt((y - predicted)**2) \n",
    "print(error)\n",
    "X_mean = np.mean(error)\n",
    "sigma = 0.1\n",
    "n = len(error)\n",
    "S_X = np.var(error, ddof=1)\n",
    "\n",
    "confidence_int = _tconfint_generic(X_mean, np.sqrt(S_X), n-1, 0.05, 'two-sided')\n",
    "predictive_int = _tconfint_generic(X_mean, np.sqrt(S_X)*(1+1/n), n-1, 0.05,'two-sided')\n",
    "\n",
    "print(\"confidence_int = \", confidence_int,  \"\\n\" + \"predictive_int = \", predictive_int)\n"
   ]
  },
  {
   "cell_type": "markdown",
   "metadata": {},
   "source": [
    "We can use additional features and more complex model, e.g. ElasticNet."
   ]
  },
  {
   "cell_type": "code",
   "execution_count": 10,
   "metadata": {},
   "outputs": [],
   "source": [
    "y = df['tohn/hour']\n",
    "X = df.drop(['tohn/hour'],axis=1)\n",
    "X = preprocessing.scale(X)\n",
    "X, y = shuffle(X, y)\n",
    "\n",
    "encv = linear_model.ElasticNetCV(cv=10,max_iter=3000, n_alphas=10)\n",
    "predicted_encv = model_selection.cross_val_predict(\n",
    "    encv, X, y.ravel(), cv=20)\n",
    "score_encv = model_selection.cross_val_score(encv,X, y.ravel(),\n",
    "                                         scoring='r2',cv=20)"
   ]
  },
  {
   "cell_type": "markdown",
   "metadata": {},
   "source": [
    "## Q3:  Compute 95% confidence interval for difference in means of mean squared error between 2 models, assuming no knowledge about $\\sigma$."
   ]
  },
  {
   "cell_type": "code",
   "execution_count": 11,
   "metadata": {},
   "outputs": [
    {
     "data": {
      "text/plain": [
       "(-0.1730752718070354, 2.0309313320072406)"
      ]
     },
     "execution_count": 11,
     "metadata": {},
     "output_type": "execute_result"
    }
   ],
   "source": [
    "error = np.sqrt((y - predicted)**2) \n",
    "error_encv = np.sqrt((y - predicted_encv)**2) \n",
    "\n",
    "\n",
    "n,m = len(error), len(error_encv)\n",
    "X_mean, Y_mean = np.mean(error), np.mean(error_encv)\n",
    "S_X, S_Y = np.var(error, ddof=1), np.var(error_encv, ddof=1)\n",
    "S_P = ((n-1) * S_X + (m-1) * S_Y) / (n + m - 2)\n",
    "\n",
    "\n",
    "_tconfint_generic(X_mean - Y_mean, \n",
    "                  np.sqrt(S_P), n + m - 2, 0.05, 'two-sided')\n"
   ]
  },
  {
   "cell_type": "markdown",
   "metadata": {
    "collapsed": true
   },
   "source": [
    "## Q4: Implement UCB1"
   ]
  },
  {
   "cell_type": "code",
   "execution_count": 41,
   "metadata": {},
   "outputs": [],
   "source": [
    "class Model:\n",
    "    def __init__(self, probability, init_mean=0):\n",
    "        self.probability = probability\n",
    "        self.mean = init_mean\n",
    "        if init_mean > 0:\n",
    "             self.sample_size = 1\n",
    "        else:\n",
    "             self.sample_size = 0\n",
    "    \n",
    "    def execute(self):\n",
    "        return np.random.uniform(0,1) < self.probability\n",
    "\n",
    "    def update(self, x):\n",
    "        self.sample_size += 1\n",
    "        self.mean = ((self.sample_size - 1)*self.mean + x) / self.sample_size\n",
    "        \n",
    "def experiment(model_probs, eps, total=1000):\n",
    "    models = [Model(p, init_mean=0) for p in model_probs]\n",
    "    rewards = np.zeros(total)\n",
    "\n",
    "    num_times_explored = 0\n",
    "    num_times_exploited = 0\n",
    "    num_optimal = 0\n",
    "\n",
    "    optimal_j = np.argmax([m.probability for m in models])\n",
    "    print(\"optimal j:\", optimal_j)\n",
    "    \n",
    "    for i in range(1,total):\n",
    "        \n",
    "        if np.random.uniform(0,1) < eps:\n",
    "            num_times_explored += 1\n",
    "            j = np.random.randint(len(models))\n",
    "        else:\n",
    "            num_times_exploited += 1\n",
    "            j = np.argmax([m.mean + np.sqrt(2*np.log(i)/m.sample_size) if m.sample_size!=0 else np.nan for m in models])\n",
    "            #j = np.argmax([m.mean + np.sqrt(2*np.log(i)/m.sample_size) for m in models])\n",
    "\n",
    "        if j == optimal_j:\n",
    "            num_optimal += 1\n",
    "            \n",
    "        # execute best model\n",
    "        x = models[j].execute()\n",
    "\n",
    "        # update rewards \n",
    "        rewards[i] = x\n",
    "\n",
    "        # update the distribution for the executed model\n",
    "        models[j].update(x)\n",
    "        \n",
    "    for m in models:\n",
    "        print(\"mean estimate:\", m.mean)\n",
    "        \n",
    "    # print total reward\n",
    "    print(\"total reward earned:\", rewards.sum())\n",
    "    print(\"overall win rate:\", rewards.sum() / total)\n",
    "    print(\"num_times_explored:\", num_times_explored)\n",
    "    print(\"num_times_exploited:\", num_times_exploited)\n",
    "    print(\"num times selected optimal bandit:\", num_optimal)\n",
    "\n",
    "    # plot the results\n",
    "    cumulative_rewards = np.cumsum(rewards)\n",
    "    win_rates = cumulative_rewards / (np.arange(total) + 1)\n",
    "    plt.plot(win_rates)\n",
    "    plt.plot(np.ones(total)*np.max(model_probs))\n",
    "    plt.show()"
   ]
  },
  {
   "cell_type": "code",
   "execution_count": 43,
   "metadata": {},
   "outputs": [
    {
     "name": "stdout",
     "output_type": "stream",
     "text": [
      "optimal j: 2\n",
      "mean estimate: 0.27142857142857146\n",
      "mean estimate: 0.5207547169811324\n",
      "mean estimate: 0.7414114238410595\n",
      "total reward earned: 7322.0\n",
      "overall win rate: 0.7322\n",
      "num_times_explored: 0\n",
      "num_times_exploited: 9999\n",
      "num times selected optimal bandit: 9664\n"
     ]
    },
    {
     "data": {
      "image/png": "[encoded data removed]",
      "text/plain": [
       "<Figure size 640x480 with 1 Axes>"
      ]
     },
     "metadata": {},
     "output_type": "display_data"
    }
   ],
   "source": [
    "total = 10000\n",
    "eps = 0\n",
    "model_probs = [0.2, 0.5, 0.75]\n",
    "experiment(model_probs, eps, total)"
   ]
  },
  {
   "cell_type": "code",
   "execution_count": null,
   "metadata": {},
   "outputs": [],
   "source": []
  }
 ],
 "metadata": {
  "kernelspec": {
   "display_name": "Python 3 (ipykernel)",
   "language": "python",
   "name": "python3"
  },
  "language_info": {
   "codemirror_mode": {
    "name": "ipython",
    "version": 3
   },
   "file_extension": ".py",
   "mimetype": "text/x-python",
   "name": "python",
   "nbconvert_exporter": "python",
   "pygments_lexer": "ipython3",
   "version": "3.9.13"
  },
  "vscode": {
   "interpreter": {
    "hash": "916dbcbb3f70747c44a77c7bcd40155683ae19c65e1c03b4aa3499c5328201f1"
   }
  }
 },
 "nbformat": 4,
 "nbformat_minor": 1
}
