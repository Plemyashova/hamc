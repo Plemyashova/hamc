{
 "cells": [
  {
   "cell_type": "markdown",
   "metadata": {},
   "source": [
    "# Homework 1\n",
    "***\n",
    "\n",
    "We are going to work with the following dataset: fluid current in a tube.\n",
    "Some statistics are collected for dataset, incl. mean, skewness, kurtosis, etc. We are predicting flow rate ('tohn/hour'). We need to build confidence and predictive intervals."
   ]
  },
  {
   "cell_type": "code",
   "execution_count": 59,
   "metadata": {},
   "outputs": [
    {
     "name": "stdout",
     "output_type": "stream",
     "text": [
      "\u001b[31mERROR: Could not find a version that satisfies the requirement math (from versions: none)\u001b[0m\n",
      "\u001b[31mERROR: No matching distribution found for math\u001b[0m\n"
     ]
    }
   ],
   "source": [
    "!pip install math"
   ]
  },
  {
   "cell_type": "code",
   "execution_count": 5,
   "metadata": {},
   "outputs": [],
   "source": [
    "%matplotlib inline\n",
    "\n",
    "import numpy as np\n",
    "from sklearn import datasets, linear_model, preprocessing, model_selection\n",
    "from sklearn.utils import shuffle\n",
    "import matplotlib.pyplot as plt\n",
    "import pandas as pd"
   ]
  },
  {
   "cell_type": "code",
   "execution_count": 6,
   "metadata": {
    "collapsed": true
   },
   "outputs": [],
   "source": [
    "df = pd.read_csv('exxsol_data.csv', sep=';', header=(0))"
   ]
  },
  {
   "cell_type": "markdown",
   "metadata": {},
   "source": [
    "There are 10 features and 1 label to predict:"
   ]
  },
  {
   "cell_type": "code",
   "execution_count": 7,
   "metadata": {},
   "outputs": [
    {
     "name": "stdout",
     "output_type": "stream",
     "text": [
      "['mean' 'std' 'skew' 'kurt' 'RMS' 'crest' 'freq_peak' 'shan' 'perm' 'temp'\n",
      " 'tohn/hour']\n"
     ]
    }
   ],
   "source": [
    "print(df.columns.values)"
   ]
  },
  {
   "cell_type": "code",
   "execution_count": 8,
   "metadata": {},
   "outputs": [],
   "source": [
    "y = df['tohn/hour']\n",
    "freq_temp = df[['freq_peak','temp']]"
   ]
  },
  {
   "cell_type": "markdown",
   "metadata": {},
   "source": [
    "Physics tells us that flow rate is a function of a frequency peak and temperature."
   ]
  },
  {
   "cell_type": "code",
   "execution_count": 9,
   "metadata": {},
   "outputs": [],
   "source": [
    "freq_temp, y = shuffle(freq_temp, y)\n",
    "\n",
    "# split data into training and testing sets\n",
    "#from sklearn.model_selection import train_test_split\n",
    "#train_freq, test_freq, train_y, test_y = train_test_split(freq, y, train_size=0.7, random_state=2)\n",
    "\n",
    "lr = linear_model.LinearRegression()\n",
    "predicted = model_selection.cross_val_predict(\n",
    "    lr, freq_temp, y.ravel(), cv=20)\n",
    "score = model_selection.cross_val_score(lr, freq_temp, y,\n",
    "                                         scoring='r2',cv=20)"
   ]
  },
  {
   "cell_type": "markdown",
   "metadata": {},
   "source": [
    "## Q0: Build point estimate for mean r2 score and its deviation"
   ]
  },
  {
   "cell_type": "code",
   "execution_count": 18,
   "metadata": {},
   "outputs": [
    {
     "name": "stdout",
     "output_type": "stream",
     "text": [
      "Mean: 0.8257494580841943\n",
      "Deviation: 0.07965114303552821\n"
     ]
    }
   ],
   "source": [
    "print(f'Mean: {np.mean(score)}')\n",
    "print(f'Deviation: {np.std(score, ddof = 1)}')\n"
   ]
  },
  {
   "cell_type": "markdown",
   "metadata": {},
   "source": [
    "## Q1: Predicted is an array with predictions of the label y. Assuming, that $\\sigma = 0.1$, compute 95% confidence and predictive interval for mean squared error. "
   ]
  },
  {
   "cell_type": "code",
   "execution_count": 48,
   "metadata": {},
   "outputs": [
    {
     "name": "stdout",
     "output_type": "stream",
     "text": [
      "Confidence interval: (0.1253756588020492, 0.51736845571006)\n",
      "Predictive interval: (0.1250956639471149, 0.5176484505649943)\n"
     ]
    }
   ],
   "source": [
    "from statsmodels.stats.weightstats import _zconfint_generic\n",
    "\n",
    "mse = ((y - predicted)**2)**(1/2)\n",
    "n = len(mse)\n",
    "mean = np.mean(mse)\n",
    "\n",
    "conf_int = _zconfint_generic(mean, 0.1, 0.05, 'two-sided')\n",
    "pred_int = _zconfint_generic(mean, 0.1 * (1 + 1 / n), 0.05, 'two-sided')\n",
    "print(f'Confidence interval: {conf_int}')\n",
    "print(f'Predictive interval: {pred_int}')"
   ]
  },
  {
   "cell_type": "markdown",
   "metadata": {},
   "source": [
    "## Q2:  Compute 95% confidence and predicted intervals for mean squared error, assuming no knowledge about $\\sigma$."
   ]
  },
  {
   "cell_type": "code",
   "execution_count": 52,
   "metadata": {},
   "outputs": [
    {
     "name": "stdout",
     "output_type": "stream",
     "text": [
      "Confidence interval: (-0.43212020690730735, 2.6095667871784025)\n",
      "Predictive interval: (-0.43429284047451144, 2.6117394207456064)\n"
     ]
    }
   ],
   "source": [
    "# Your code here\n",
    "\n",
    "from statsmodels.stats.weightstats import _tconfint_generic\n",
    "\n",
    "mse = ((y - predicted)**2)**(1/2)\n",
    "n = len(mse)\n",
    "mean = np.mean(mse)\n",
    "s_mse = np.var(mse)\n",
    "\n",
    "conf_int = _tconfint_generic(mean, np.sqrt(s_mse), n - 1, 0.05, 'two-sided')\n",
    "pred_int = _tconfint_generic(mean, np.sqrt(s_mse) * (1 + 1 / n), n - 1, 0.05, 'two-sided')\n",
    "print(f'Confidence interval: {conf_int}')\n",
    "print(f'Predictive interval: {pred_int}')"
   ]
  },
  {
   "cell_type": "markdown",
   "metadata": {},
   "source": [
    "We can use additional features and more complex model, e.g. ElasticNet."
   ]
  },
  {
   "cell_type": "code",
   "execution_count": 50,
   "metadata": {},
   "outputs": [],
   "source": [
    "y = df['tohn/hour']\n",
    "X = df.drop(['tohn/hour'],axis=1)\n",
    "X = preprocessing.scale(X)\n",
    "X, y = shuffle(X, y)\n",
    "\n",
    "encv = linear_model.ElasticNetCV(cv=10,max_iter=3000, n_alphas=10)\n",
    "predicted_encv = model_selection.cross_val_predict(\n",
    "    encv, X, y.ravel(), cv=20)\n",
    "score_encv = model_selection.cross_val_score(encv,X, y.ravel(),\n",
    "                                         scoring='r2',cv=20)"
   ]
  },
  {
   "cell_type": "markdown",
   "metadata": {},
   "source": [
    "## Q3:  Compute 95% confidence interval for difference in means of mean squared error between 2 models, assuming no knowledge about $\\sigma$."
   ]
  },
  {
   "cell_type": "code",
   "execution_count": 54,
   "metadata": {},
   "outputs": [
    {
     "name": "stdout",
     "output_type": "stream",
     "text": [
      "Confidence interval: (-0.18483788131252443, 2.019944328843822)\n"
     ]
    }
   ],
   "source": [
    "# Your code here\n",
    "mse = ((y - predicted)**2)**(1/2)\n",
    "mse_encv = ((y - predicted_encv)**2)**(1/2)\n",
    "\n",
    "n,m = len(mse), len(mse_encv)\n",
    "mean, mean_encv = np.mean(mse), np.mean(mse_encv)\n",
    "s_mse, s_mse_encv = np.var(mse, ddof=1), np.var(mse_encv, ddof=1)\n",
    "s_p = ((n-1) * s_mse + (m-1) * s_mse_encv) / (n + m - 2)\n",
    "\n",
    "conf_int = _tconfint_generic(mean - mean_encv, np.sqrt(s_p), n + m - 2, 0.05, 'two-sided')\n",
    "print(f'Confidence interval: {conf_int}')\n"
   ]
  },
  {
   "cell_type": "markdown",
   "metadata": {
    "collapsed": true
   },
   "source": [
    "## Q4: Implement UCB1"
   ]
  },
  {
   "cell_type": "code",
   "execution_count": 62,
   "metadata": {},
   "outputs": [],
   "source": [
    "import matplotlib.pyplot as plt\n",
    "import numpy as np\n",
    "from scipy.stats import beta\n",
    "from math import sqrt, log\n",
    "\n",
    "\n",
    "class Model:\n",
    "    def __init__(self, probability, init_mean=0):\n",
    "        self.probability = probability\n",
    "        self.mean = init_mean\n",
    "        if init_mean > 0:\n",
    "             self.sample_size = 1\n",
    "        else:\n",
    "             self.sample_size = 0\n",
    "    \n",
    "    def execute(self):\n",
    "        return np.random.uniform(0,1) < self.probability\n",
    "\n",
    "    def update(self, x):\n",
    "        self.sample_size += 1\n",
    "        self.mean = ((self.sample_size - 1)*self.mean + x) / self.sample_size\n",
    "\n",
    "def experiment(model_probs, eps, total=1000):\n",
    "    models = [Model(p, init_mean=0) for p in model_probs]\n",
    "    rewards = np.zeros(total)\n",
    "\n",
    "    num_times_explored = 0\n",
    "    num_times_exploited = 0\n",
    "    num_optimal = 0\n",
    "\n",
    "    optimal_j = np.argmax([m.probability for m in models])\n",
    "    print(\"optimal j:\", optimal_j)\n",
    "\n",
    "    for i in range(1, total):\n",
    "\n",
    "      # use epsilon-greedy to select the best\n",
    "      if np.random.uniform(0,1) < eps:\n",
    "        num_times_explored += 1\n",
    "        j = np.random.randint(len(models))\n",
    "      else:\n",
    "        num_times_exploited += 1\n",
    "        j = np.argmax([m.mean + np.sqrt(2*np.log(i) / m.sample_size) for m in models])\n",
    "\n",
    "      if j == optimal_j:\n",
    "        num_optimal += 1\n",
    "\n",
    "      # execute best model\n",
    "      x = models[j].execute()\n",
    "\n",
    "      # update rewards \n",
    "      rewards[i] = x\n",
    "\n",
    "      # update the distribution for the executed model\n",
    "      models[j].update(x)\n",
    "      \n",
    "    for m in models:\n",
    "      print(\"mean estimate:\", m.mean)\n",
    "\n",
    "    # print total reward\n",
    "    print(\"total reward earned:\", rewards.sum())\n",
    "    print(\"overall win rate:\", rewards.sum() / total)\n",
    "    print(\"num_times_explored:\", num_times_explored)\n",
    "    print(\"num_times_exploited:\", num_times_exploited)\n",
    "    print(\"num times selected optimal bandit:\", num_optimal)\n",
    "\n",
    "    # plot the results\n",
    "    cumulative_rewards = np.cumsum(rewards)\n",
    "    win_rates = cumulative_rewards / (np.arange(total) + 1)\n",
    "    plt.plot(win_rates)\n",
    "    plt.plot(np.ones(total)*np.max(model_probs))\n",
    "    plt.show()"
   ]
  },
  {
   "cell_type": "code",
   "execution_count": 63,
   "metadata": {},
   "outputs": [
    {
     "name": "stdout",
     "output_type": "stream",
     "text": [
      "optimal j: 2\n",
      "mean estimate: 0.18\n",
      "mean estimate: 0.5465838509316769\n",
      "mean estimate: 0.7444686818323456\n",
      "total reward earned: 7352.0\n",
      "overall win rate: 0.7352\n",
      "num_times_explored: 0\n",
      "num_times_exploited: 9999\n",
      "num times selected optimal bandit: 9627\n"
     ]
    },
    {
     "name": "stderr",
     "output_type": "stream",
     "text": [
      "/tmp/ipykernel_853/3515362341.py:42: RuntimeWarning: invalid value encountered in scalar divide\n",
      "  j = np.argmax([m.mean + np.sqrt(2*np.log(i) / m.sample_size) for m in models])\n",
      "/tmp/ipykernel_853/3515362341.py:42: RuntimeWarning: divide by zero encountered in scalar divide\n",
      "  j = np.argmax([m.mean + np.sqrt(2*np.log(i) / m.sample_size) for m in models])\n"
     ]
    },
    {
     "data": {
      "image/png": "[encoded data removed]",
      "text/plain": [
       "<Figure size 640x480 with 1 Axes>"
      ]
     },
     "metadata": {},
     "output_type": "display_data"
    }
   ],
   "source": [
    "total = 10000\n",
    "eps = 0\n",
    "model_probs = [0.2, 0.5, 0.75]\n",
    "experiment(model_probs, eps, total)"
   ]
  }
 ],
 "metadata": {
  "kernelspec": {
   "display_name": "Python 3",
   "language": "python",
   "name": "python3"
  },
  "language_info": {
   "codemirror_mode": {
    "name": "ipython",
    "version": 3
   },
   "file_extension": ".py",
   "mimetype": "text/x-python",
   "name": "python",
   "nbconvert_exporter": "python",
   "pygments_lexer": "ipython3",
   "version": "3.8.10"
  },
  "vscode": {
   "interpreter": {
    "hash": "916dbcbb3f70747c44a77c7bcd40155683ae19c65e1c03b4aa3499c5328201f1"
   }
  }
 },
 "nbformat": 4,
 "nbformat_minor": 1
}
