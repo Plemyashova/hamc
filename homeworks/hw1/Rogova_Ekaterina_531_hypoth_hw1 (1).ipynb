{
 "cells": [
  {
   "cell_type": "markdown",
   "metadata": {},
   "source": [
    "# Homework 1\n",
    "***\n",
    "\n",
    "We are going to work with the following dataset: fluid current in a tube.\n",
    "Some statistics are collected for dataset, incl. mean, skewness, kurtosis, etc. We are predicting flow rate ('tohn/hour'). We need to build confidence and predictive intervals."
   ]
  },
  {
   "cell_type": "code",
   "execution_count": 22,
   "metadata": {},
   "outputs": [],
   "source": [
    "%matplotlib inline\n",
    "\n",
    "import numpy as np\n",
    "from sklearn import datasets, linear_model, preprocessing, model_selection\n",
    "from sklearn.utils import shuffle\n",
    "import matplotlib.pyplot as plt\n",
    "import pandas as pd"
   ]
  },
  {
   "cell_type": "code",
   "execution_count": 23,
   "metadata": {},
   "outputs": [],
   "source": [
    "df = pd.read_csv('exxsol_data.csv', sep=';', header=(0))"
   ]
  },
  {
   "cell_type": "markdown",
   "metadata": {},
   "source": [
    "There are 10 features and 1 label to predict:"
   ]
  },
  {
   "cell_type": "code",
   "execution_count": 24,
   "metadata": {},
   "outputs": [
    {
     "name": "stdout",
     "output_type": "stream",
     "text": [
      "['mean' 'std' 'skew' 'kurt' 'RMS' 'crest' 'freq_peak' 'shan' 'perm' 'temp'\n",
      " 'tohn/hour']\n"
     ]
    }
   ],
   "source": [
    "print(df.columns.values)"
   ]
  },
  {
   "cell_type": "code",
   "execution_count": 25,
   "metadata": {},
   "outputs": [],
   "source": [
    "y = df['tohn/hour']\n",
    "freq_temp = df[['freq_peak','temp']]"
   ]
  },
  {
   "cell_type": "markdown",
   "metadata": {},
   "source": [
    "Physics tells us that flow rate is a function of a frequency peak and temperature."
   ]
  },
  {
   "cell_type": "code",
   "execution_count": 26,
   "metadata": {},
   "outputs": [],
   "source": [
    "freq_temp, y = shuffle(freq_temp, y)\n",
    "\n",
    "# split data into training and testing sets\n",
    "#from sklearn.model_selection import train_test_split\n",
    "#train_freq, test_freq, train_y, test_y = train_test_split(freq, y, train_size=0.7, random_state=2)\n",
    "\n",
    "lr = linear_model.LinearRegression()\n",
    "predicted = model_selection.cross_val_predict(\n",
    "    lr, freq_temp, y.ravel(), cv=20)\n",
    "score = model_selection.cross_val_score(lr, freq_temp, y,\n",
    "                                         scoring='r2',cv=20)"
   ]
  },
  {
   "cell_type": "markdown",
   "metadata": {},
   "source": [
    "## Q0: Build point estimate for mean r2 score and its deviation"
   ]
  },
  {
   "cell_type": "code",
   "execution_count": 27,
   "metadata": {},
   "outputs": [
    {
     "data": {
      "text/plain": [
       "(0.6631486926893199, 0.9953507544030987)"
      ]
     },
     "execution_count": 27,
     "metadata": {},
     "output_type": "execute_result"
    }
   ],
   "source": [
    "import pandas as ps\n",
    "from scipy import stats as st\n",
    "from statsmodels.stats.weightstats import _zconfint_generic, _tconfint_generic\n",
    "\n",
    "X = score\n",
    "n = len(X)\n",
    "X_mean = np.mean(X)\n",
    "S_X = np.var(X, ddof=1)\n",
    "\n",
    "_tconfint_generic(X_mean, np.sqrt(S_X), n - 1, 0.05, 'two-sided')"
   ]
  },
  {
   "cell_type": "markdown",
   "metadata": {},
   "source": [
    "## Q1: Predicted is an array with predictions of the label y. Assuming, that $\\sigma = 0.1$, compute 95% confidence and predictive interval for mean squared error. "
   ]
  },
  {
   "cell_type": "code",
   "execution_count": 28,
   "metadata": {
    "scrolled": true
   },
   "outputs": [
    {
     "name": "stdout",
     "output_type": "stream",
     "text": [
      "confidence_int =  (0.12654091141712215, 0.5185337083251329) \n",
      "predictive_int =  (0.12626091656218785, 0.5188137031800673)\n"
     ]
    }
   ],
   "source": [
    "error = np.sqrt((y - predicted)**2)  \n",
    "X_mean = np.mean(error)\n",
    "sigma = 0.1\n",
    "n = len(error)\n",
    "\n",
    "confidence_int = _zconfint_generic(X_mean, 0.1, 0.05, 'two-sided')\n",
    "predictive_int = _zconfint_generic(X_mean, sigma*(1+1/n), 0.05, 'two-sided')\n",
    "\n",
    "print(\"confidence_int = \", confidence_int, \"\\n\" + \"predictive_int = \", predictive_int)"
   ]
  },
  {
   "cell_type": "markdown",
   "metadata": {},
   "source": [
    "## Q2:  Compute 95% confidence and predicted intervals for mean squared error, assuming no knowledge about $\\sigma$."
   ]
  },
  {
   "cell_type": "code",
   "execution_count": 29,
   "metadata": {},
   "outputs": [
    {
     "name": "stdout",
     "output_type": "stream",
     "text": [
      "28     0.291529\n",
      "133    0.209881\n",
      "305    0.435607\n",
      "470    0.156528\n",
      "229    0.198630\n",
      "         ...   \n",
      "86     0.274190\n",
      "33     0.300853\n",
      "553    0.358811\n",
      "44     0.673733\n",
      "320    0.334809\n",
      "Name: tohn/hour, Length: 700, dtype: float64\n",
      "confidence_int =  (-0.1596573173188061, 0.8047319370610613) \n",
      "predictive_int =  (-0.16034616678622027, 0.8054207865284754)\n"
     ]
    }
   ],
   "source": [
    "error = np.sqrt((y - predicted)**2) \n",
    "print(error)\n",
    "X_mean = np.mean(error)\n",
    "sigma = 0.1\n",
    "n = len(error)\n",
    "S_X = np.var(error, ddof=1)\n",
    "\n",
    "confidence_int = _tconfint_generic(X_mean, np.sqrt(S_X), n-1, 0.05, 'two-sided')\n",
    "predictive_int = _tconfint_generic(X_mean, np.sqrt(S_X)*(1+1/n), n-1, 0.05,'two-sided')\n",
    "\n",
    "print(\"confidence_int = \", confidence_int,  \"\\n\" + \"predictive_int = \", predictive_int)\n"
   ]
  },
  {
   "cell_type": "markdown",
   "metadata": {},
   "source": [
    "We can use additional features and more complex model, e.g. ElasticNet."
   ]
  },
  {
   "cell_type": "code",
   "execution_count": 30,
   "metadata": {},
   "outputs": [],
   "source": [
    "y = df['tohn/hour']\n",
    "X = df.drop(['tohn/hour'],axis=1)\n",
    "X = preprocessing.scale(X)\n",
    "X, y = shuffle(X, y)\n",
    "\n",
    "encv = linear_model.ElasticNetCV(cv=10,max_iter=3000, n_alphas=10)\n",
    "predicted_encv = model_selection.cross_val_predict(\n",
    "    encv, X, y.ravel(), cv=20)\n",
    "score_encv = model_selection.cross_val_score(encv,X, y.ravel(),\n",
    "                                         scoring='r2',cv=20)"
   ]
  },
  {
   "cell_type": "markdown",
   "metadata": {},
   "source": [
    "## Q3:  Compute 95% confidence interval for difference in means of mean squared error between 2 models, assuming no knowledge about $\\sigma$."
   ]
  },
  {
   "cell_type": "code",
   "execution_count": 31,
   "metadata": {},
   "outputs": [
    {
     "data": {
      "text/plain": [
       "(-0.1913484975800025, 2.0374007616368686)"
      ]
     },
     "execution_count": 31,
     "metadata": {},
     "output_type": "execute_result"
    }
   ],
   "source": [
    "error = np.sqrt((y - predicted)**2) \n",
    "error_encv = np.sqrt((y - predicted_encv)**2) \n",
    "\n",
    "\n",
    "n,m = len(error), len(error_encv)\n",
    "X_mean, Y_mean = np.mean(error), np.mean(error_encv)\n",
    "S_X, S_Y = np.var(error, ddof=1), np.var(error_encv, ddof=1)\n",
    "S_P = ((n-1) * S_X + (m-1) * S_Y) / (n + m - 2)\n",
    "\n",
    "\n",
    "_tconfint_generic(X_mean - Y_mean, \n",
    "                  np.sqrt(S_P), n + m - 2, 0.05, 'two-sided')\n"
   ]
  },
  {
   "cell_type": "markdown",
   "metadata": {
    "collapsed": true
   },
   "source": [
    "## Q4: Implement UCB1"
   ]
  },
  {
   "cell_type": "code",
   "execution_count": 34,
   "metadata": {},
   "outputs": [],
   "source": [
    "import matplotlib.pyplot as plt\n",
    "import numpy as np\n",
    "from scipy.stats import beta\n",
    "\n",
    "\n",
    "class Model:\n",
    "    def __init__(self, probability, init_mean=0):\n",
    "        self.probability = probability\n",
    "        self.mean = init_mean\n",
    "        if init_mean > 0:\n",
    "             self.sample_size = 1\n",
    "        else:\n",
    "             self.sample_size = 0\n",
    "    \n",
    "    def execute(self):\n",
    "        return np.random.uniform(0,1) < self.probability\n",
    "\n",
    "    def update(self, x):\n",
    "        self.sample_size += 1\n",
    "        self.mean = ((self.sample_size - 1)*self.mean + x) / self.sample_size\n",
    "\n",
    "def experiment(model_probs, eps, total=1000):\n",
    "    models = [Model(p, init_mean=0) for p in model_probs]\n",
    "    rewards = np.zeros(total)\n",
    "\n",
    "    num_times_explored = 0\n",
    "    num_times_exploited = 0\n",
    "    num_optimal = 0\n",
    "\n",
    "    optimal_j = np.argmax([m.probability for m in models])\n",
    "    print(\"optimal j:\", optimal_j)\n",
    "\n",
    "    for i in range(total):\n",
    "\n",
    "      # use epsilon-greedy to select the best\n",
    "      if np.random.uniform(0,1) < eps:\n",
    "        num_times_explored += 1\n",
    "        j = np.random.randint(len(models))\n",
    "      else:\n",
    "        num_times_exploited += 1\n",
    "        j = np.argmax([m.mean + np.sqrt(2*np.log(i)/m.sample_size) for m in models])\n",
    "\n",
    "      if j == optimal_j:\n",
    "        num_optimal += 1\n",
    "\n",
    "      # execute best model\n",
    "      x = models[j].execute()\n",
    "\n",
    "      # update rewards \n",
    "      rewards[i] = x\n",
    "\n",
    "      # update the distribution for the executed model\n",
    "      models[j].update(x)\n",
    "      \n",
    "    for m in models:\n",
    "      print(\"mean estimate:\", m.mean)\n",
    "\n",
    "    # print total reward\n",
    "    print(\"total reward earned:\", rewards.sum())\n",
    "    print(\"overall win rate:\", rewards.sum() / total)\n",
    "    print(\"num_times_explored:\", num_times_explored)\n",
    "    print(\"num_times_exploited:\", num_times_exploited)\n",
    "    print(\"num times selected optimal bandit:\", num_optimal)\n",
    "\n",
    "    # plot the results\n",
    "    cumulative_rewards = np.cumsum(rewards)\n",
    "    win_rates = cumulative_rewards / (np.arange(total) + 1)\n",
    "    plt.plot(win_rates)\n",
    "    plt.plot(np.ones(total)*np.max(model_probs))\n",
    "    plt.show()"
   ]
  },
  {
   "cell_type": "code",
   "execution_count": 35,
   "metadata": {},
   "outputs": [
    {
     "name": "stdout",
     "output_type": "stream",
     "text": [
      "optimal j: 2\n"
     ]
    },
    {
     "name": "stderr",
     "output_type": "stream",
     "text": [
      "/var/folders/jd/z8ygw9ks025849qs00hfmmh80000gn/T/ipykernel_33056/3434896440.py:41: RuntimeWarning: divide by zero encountered in log\n",
      "  j = np.argmax([m.mean + np.sqrt(2*np.log(i)/m.sample_size) for m in models])\n",
      "/var/folders/jd/z8ygw9ks025849qs00hfmmh80000gn/T/ipykernel_33056/3434896440.py:41: RuntimeWarning: invalid value encountered in sqrt\n",
      "  j = np.argmax([m.mean + np.sqrt(2*np.log(i)/m.sample_size) for m in models])\n",
      "/var/folders/jd/z8ygw9ks025849qs00hfmmh80000gn/T/ipykernel_33056/3434896440.py:41: RuntimeWarning: invalid value encountered in double_scalars\n",
      "  j = np.argmax([m.mean + np.sqrt(2*np.log(i)/m.sample_size) for m in models])\n",
      "/var/folders/jd/z8ygw9ks025849qs00hfmmh80000gn/T/ipykernel_33056/3434896440.py:41: RuntimeWarning: divide by zero encountered in double_scalars\n",
      "  j = np.argmax([m.mean + np.sqrt(2*np.log(i)/m.sample_size) for m in models])\n"
     ]
    },
    {
     "name": "stdout",
     "output_type": "stream",
     "text": [
      "mean estimate: 0.24193548387096772\n",
      "mean estimate: 0.5125000000000002\n",
      "mean estimate: 0.7479892761394108\n",
      "total reward earned: 7392.0\n",
      "overall win rate: 0.7392\n",
      "num_times_explored: 0\n",
      "num_times_exploited: 10000\n",
      "num times selected optimal bandit: 9698\n"
     ]
    },
    {
     "data": {
      "image/png": "[encoded data removed]",
      "text/plain": [
       "<Figure size 432x288 with 1 Axes>"
      ]
     },
     "metadata": {
      "needs_background": "light"
     },
     "output_type": "display_data"
    }
   ],
   "source": [
    "total = 10000\n",
    "eps = 0\n",
    "model_probs = [0.2, 0.5, 0.75]\n",
    "experiment(model_probs, eps, total)"
   ]
  },
  {
   "cell_type": "code",
   "execution_count": null,
   "metadata": {},
   "outputs": [],
   "source": []
  }
 ],
 "metadata": {
  "kernelspec": {
   "display_name": "Python 3 (ipykernel)",
   "language": "python",
   "name": "python3"
  },
  "language_info": {
   "codemirror_mode": {
    "name": "ipython",
    "version": 3
   },
   "file_extension": ".py",
   "mimetype": "text/x-python",
   "name": "python",
   "nbconvert_exporter": "python",
   "pygments_lexer": "ipython3",
   "version": "3.9.7"
  },
  "vscode": {
   "interpreter": {
    "hash": "916dbcbb3f70747c44a77c7bcd40155683ae19c65e1c03b4aa3499c5328201f1"
   }
  }
 },
 "nbformat": 4,
 "nbformat_minor": 1
}
