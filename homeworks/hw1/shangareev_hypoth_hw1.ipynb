{
  "cells": [
    {
      "cell_type": "markdown",
      "metadata": {
        "id": "imQMHQXTf_2N"
      },
      "source": [
        "# Homework 1\n",
        "***\n",
        "\n",
        "We are going to work with the following dataset: fluid current in a tube.\n",
        "Some statistics are collected for dataset, incl. mean, skewness, kurtosis, etc. We are predicting flow rate ('tohn/hour'). We need to build confidence and predictive intervals."
      ]
    },
    {
      "cell_type": "code",
      "source": [
        "!wget https://raw.githubusercontent.com/dmkovalev/hamc2023/main/homeworks/exxsol_data.csv"
      ],
      "metadata": {
        "colab": {
          "base_uri": "https://localhost:8080/"
        },
        "id": "I9V7oC06jQ_D",
        "outputId": "8f7ee35a-12ae-4604-fc24-5ba0de6812c4"
      },
      "execution_count": null,
      "outputs": [
        {
          "output_type": "stream",
          "name": "stdout",
          "text": [
            "--2023-04-10 20:57:16--  https://raw.githubusercontent.com/dmkovalev/hamc2023/main/homeworks/exxsol_data.csv\n",
            "Resolving raw.githubusercontent.com (raw.githubusercontent.com)... 185.199.108.133, 185.199.109.133, 185.199.110.133, ...\n",
            "Connecting to raw.githubusercontent.com (raw.githubusercontent.com)|185.199.108.133|:443... connected.\n",
            "HTTP request sent, awaiting response... 200 OK\n",
            "Length: 84661 (83K) [text/plain]\n",
            "Saving to: ‘exxsol_data.csv’\n",
            "\n",
            "\rexxsol_data.csv       0%[                    ]       0  --.-KB/s               \rexxsol_data.csv     100%[===================>]  82.68K  --.-KB/s    in 0.009s  \n",
            "\n",
            "2023-04-10 20:57:16 (9.23 MB/s) - ‘exxsol_data.csv’ saved [84661/84661]\n",
            "\n"
          ]
        }
      ]
    },
    {
      "cell_type": "code",
      "execution_count": null,
      "metadata": {
        "id": "uSUHZ5BCf_2P"
      },
      "outputs": [],
      "source": [
        "%matplotlib inline\n",
        "\n",
        "import numpy as np\n",
        "from sklearn import datasets, linear_model, preprocessing, model_selection\n",
        "from sklearn.utils import shuffle\n",
        "import matplotlib.pyplot as plt\n",
        "import pandas as pd"
      ]
    },
    {
      "cell_type": "code",
      "execution_count": null,
      "metadata": {
        "collapsed": true,
        "id": "9knFLyHff_2Q"
      },
      "outputs": [],
      "source": [
        "df = pd.read_csv('exxsol_data.csv', sep=';', header=(0))"
      ]
    },
    {
      "cell_type": "markdown",
      "metadata": {
        "id": "yX-uQbDof_2Q"
      },
      "source": [
        "There are 10 features and 1 label to predict:"
      ]
    },
    {
      "cell_type": "code",
      "execution_count": null,
      "metadata": {
        "id": "Mff7xRIWf_2Q",
        "outputId": "c3e7e35f-3907-4651-da74-b5896133128a",
        "colab": {
          "base_uri": "https://localhost:8080/"
        }
      },
      "outputs": [
        {
          "output_type": "stream",
          "name": "stdout",
          "text": [
            "['mean' 'std' 'skew' 'kurt' 'RMS' 'crest' 'freq_peak' 'shan' 'perm' 'temp'\n",
            " 'tohn/hour']\n"
          ]
        }
      ],
      "source": [
        "print(df.columns.values)"
      ]
    },
    {
      "cell_type": "code",
      "execution_count": null,
      "metadata": {
        "id": "XWgCKPTkf_2R"
      },
      "outputs": [],
      "source": [
        "y = df['tohn/hour']\n",
        "freq_temp = df[['freq_peak','temp']]"
      ]
    },
    {
      "cell_type": "markdown",
      "metadata": {
        "id": "h1kTc1DSf_2S"
      },
      "source": [
        "Physics tells us that flow rate is a function of a frequency peak and temperature."
      ]
    },
    {
      "cell_type": "code",
      "execution_count": null,
      "metadata": {
        "id": "UD_V4o6Wf_2S"
      },
      "outputs": [],
      "source": [
        "freq_temp, y = shuffle(freq_temp, y)\n",
        "\n",
        "# split data into training and testing sets\n",
        "#from sklearn.model_selection import train_test_split\n",
        "#train_freq, test_freq, train_y, test_y = train_test_split(freq, y, train_size=0.7, random_state=2)\n",
        "\n",
        "lr = linear_model.LinearRegression()\n",
        "predicted = model_selection.cross_val_predict(\n",
        "    lr, freq_temp, y.ravel(), cv=20)\n",
        "score = model_selection.cross_val_score(lr, freq_temp, y,\n",
        "                                         scoring='r2',cv=20)"
      ]
    },
    {
      "cell_type": "markdown",
      "metadata": {
        "id": "ndBNivnof_2S"
      },
      "source": [
        "## Q0: Build point estimate for mean r2 score and its deviation"
      ]
    },
    {
      "cell_type": "code",
      "execution_count": null,
      "metadata": {
        "id": "-o8qadNJf_2S",
        "colab": {
          "base_uri": "https://localhost:8080/"
        },
        "outputId": "5f984826-917c-46c4-9056-89670e78abab"
      },
      "outputs": [
        {
          "output_type": "execute_result",
          "data": {
            "text/plain": [
              "(0.8210374227015922, 0.08995255507464928)"
            ]
          },
          "metadata": {},
          "execution_count": 7
        }
      ],
      "source": [
        "score.mean(), score.std()"
      ]
    },
    {
      "cell_type": "markdown",
      "metadata": {
        "id": "PmHjX-Cpf_2T"
      },
      "source": [
        "## Q1: Predicted is an array with predictions of the label y. Assuming, that $\\sigma = 0.1$, compute 95% confidence and predictive interval for mean squared error. "
      ]
    },
    {
      "cell_type": "code",
      "source": [
        "e = np.sqrt((y - predicted) ** 2)"
      ],
      "metadata": {
        "id": "ozeuhgE3qPt2"
      },
      "execution_count": null,
      "outputs": []
    },
    {
      "cell_type": "code",
      "source": [
        "import numpy as np, scipy.stats as st\n",
        "\n",
        "ci = st.t.interval(0.95, len(e) - 1, loc=np.mean(e), scale=0.1)\n",
        "pi = st.t.interval(0.95, len(e) - 1, loc=np.mean(e), scale=0.1 * (1 + 1 / len(e)))\n",
        "\n",
        "print(ci)\n",
        "print(pi)"
      ],
      "metadata": {
        "colab": {
          "base_uri": "https://localhost:8080/"
        },
        "id": "XsQ2GOT4TRqn",
        "outputId": "bebd8039-d701-4a91-d5e5-25bb29054a30"
      },
      "execution_count": null,
      "outputs": [
        {
          "output_type": "stream",
          "name": "stdout",
          "text": [
            "(0.12560304417691642, 0.5182757593611014)\n",
            "(0.12532256366607059, 0.5185562398719472)\n"
          ]
        }
      ]
    },
    {
      "cell_type": "markdown",
      "metadata": {
        "id": "RjF0OYubf_2T"
      },
      "source": [
        "## Q2:  Compute 95% confidence and predicted intervals for mean squared error, assuming no knowledge about $\\sigma$."
      ]
    },
    {
      "cell_type": "code",
      "execution_count": null,
      "metadata": {
        "id": "9PSaEFkIf_2T",
        "colab": {
          "base_uri": "https://localhost:8080/"
        },
        "outputId": "a780ddec-e03b-4dfa-8928-8a69b6089909"
      },
      "outputs": [
        {
          "output_type": "stream",
          "name": "stdout",
          "text": [
            "(-0.15824007998457296, 0.8021188835225908)\n",
            "(-0.1589260506727923, 0.8028048542108102)\n"
          ]
        }
      ],
      "source": [
        "ci = st.t.interval(0.95, len(e) - 1, loc=np.mean(e), scale=e.std())\n",
        "pi = st.t.interval(0.95, len(e) - 1, loc=np.mean(e), scale=e.std() * (1 + 1 / len(e)))\n",
        "\n",
        "print(ci)\n",
        "print(pi)"
      ]
    },
    {
      "cell_type": "markdown",
      "metadata": {
        "id": "Bi4agRRGf_2T"
      },
      "source": [
        "We can use additional features and more complex model, e.g. ElasticNet."
      ]
    },
    {
      "cell_type": "code",
      "execution_count": null,
      "metadata": {
        "id": "cgaitSdcf_2U"
      },
      "outputs": [],
      "source": [
        "y = df['tohn/hour']\n",
        "X = df.drop(['tohn/hour'],axis=1)\n",
        "X = preprocessing.scale(X)\n",
        "X, y = shuffle(X, y)\n",
        "\n",
        "encv = linear_model.ElasticNetCV(cv=10,max_iter=3000, n_alphas=10)\n",
        "predicted_encv = model_selection.cross_val_predict(\n",
        "    encv, X, y.ravel(), cv=20)\n",
        "score_encv = model_selection.cross_val_score(encv,X, y.ravel(),\n",
        "                                         scoring='r2',cv=20)"
      ]
    },
    {
      "cell_type": "markdown",
      "metadata": {
        "id": "Xr-g36Fzf_2U"
      },
      "source": [
        "## Q3:  Compute 95% confidence interval for difference in means of mean squared error between 2 models, assuming no knowledge about $\\sigma$."
      ]
    },
    {
      "cell_type": "code",
      "execution_count": null,
      "metadata": {
        "id": "Y3xRgyraf_2U"
      },
      "outputs": [],
      "source": [
        "from statsmodels.stats.weightstats import _zconfint_generic, _tconfint_generic"
      ]
    },
    {
      "cell_type": "code",
      "source": [
        "e = np.sqrt((y - predicted) ** 2) \n",
        "e_encv = np.sqrt((y - predicted_encv) ** 2) \n",
        "\n",
        "\n",
        "n,m = len(e), len(e_encv)\n",
        "X_mean, Y_mean = np.mean(e), np.mean(e_encv)\n",
        "S_X, S_Y = np.var(e, ddof=1), np.var(e_encv, ddof=1)\n",
        "S_P = ((n-1) * S_X + (m-1) * S_Y) / (n + m - 2)\n",
        "\n",
        "\n",
        "_tconfint_generic(X_mean - Y_mean, \n",
        "                  np.sqrt(S_P), n + m - 2, 0.05, 'two-sided')\n"
      ],
      "metadata": {
        "id": "QKO_T-I8ue3c",
        "colab": {
          "base_uri": "https://localhost:8080/"
        },
        "outputId": "6a555862-a438-4c7a-98ff-5d5163314552"
      },
      "execution_count": null,
      "outputs": [
        {
          "output_type": "execute_result",
          "data": {
            "text/plain": [
              "(-0.16021593104402942, 2.0398988351534237)"
            ]
          },
          "metadata": {},
          "execution_count": 16
        }
      ]
    },
    {
      "cell_type": "markdown",
      "metadata": {
        "collapsed": true,
        "id": "Mg4rTn9Vf_2U"
      },
      "source": [
        "## Q4: Implement UCB1"
      ]
    },
    {
      "cell_type": "code",
      "execution_count": null,
      "metadata": {
        "id": "JQUgMJAif_2V"
      },
      "outputs": [],
      "source": [
        "import matplotlib.pyplot as plt\n",
        "import numpy as np\n",
        "from scipy.stats import beta\n",
        "\n",
        "\n",
        "class Model:\n",
        "    def __init__(self, probability, init_mean=0):\n",
        "        self.probability = probability\n",
        "        self.mean = init_mean\n",
        "        if init_mean > 0:\n",
        "             self.sample_size = 1\n",
        "        else:\n",
        "             self.sample_size = 0\n",
        "    \n",
        "    def execute(self):\n",
        "        return np.random.uniform(0,1) < self.probability\n",
        "\n",
        "    def update(self, x):\n",
        "        self.sample_size += 1\n",
        "        self.mean = ((self.sample_size - 1)*self.mean + x) / self.sample_size\n",
        "\n",
        "\n",
        "def experiment(model_probs, eps, total=1000):\n",
        "    models = [Model(p, init_mean=0) for p in model_probs]\n",
        "    rewards = np.zeros(total)\n",
        "\n",
        "    num_times_explored = 0\n",
        "    num_times_exploited = 0\n",
        "    num_optimal = 0\n",
        "\n",
        "    optimal_j = np.argmax([m.probability for m in models])\n",
        "    print(\"optimal j:\", optimal_j)\n",
        "\n",
        "    for i in range(total):\n",
        "\n",
        "      # use epsilon-greedy to select the best\n",
        "      if np.random.uniform(0,1) < eps:\n",
        "        num_times_explored += 1\n",
        "        j = np.random.randint(len(models))\n",
        "      else:\n",
        "        num_times_exploited += 1\n",
        "        j = np.argmax([m.mean + np.sqrt(2 * np.log(i) / m.sample_size) for m in models])\n",
        "\n",
        "      if j == optimal_j:\n",
        "        num_optimal += 1\n",
        "\n",
        "      # execute best model\n",
        "      x = models[j].execute()\n",
        "\n",
        "      # update rewards \n",
        "      rewards[i] = x\n",
        "\n",
        "      # update the distribution for the executed model\n",
        "      models[j].update(x)\n",
        "      \n",
        "    for m in models:\n",
        "      print(\"mean estimate:\", m.mean)\n",
        "\n",
        "    # print total reward\n",
        "    print(\"total reward earned:\", rewards.sum())\n",
        "    print(\"overall win rate:\", rewards.sum() / total)\n",
        "    print(\"num_times_explored:\", num_times_explored)\n",
        "    print(\"num_times_exploited:\", num_times_exploited)\n",
        "    print(\"num times selected optimal bandit:\", num_optimal)\n",
        "\n",
        "    # plot the results\n",
        "    cumulative_rewards = np.cumsum(rewards)\n",
        "    win_rates = cumulative_rewards / (np.arange(total) + 1)\n",
        "    plt.plot(win_rates)\n",
        "    plt.plot(np.ones(total)*np.max(model_probs))\n",
        "    plt.show()"
      ]
    },
    {
      "cell_type": "code",
      "source": [
        "total = 10000\n",
        "eps = 0\n",
        "model_probs = [0.2, 0.5, 0.75]\n",
        "experiment(model_probs, eps, total)"
      ],
      "metadata": {
        "colab": {
          "base_uri": "https://localhost:8080/",
          "height": 734
        },
        "id": "nizy2SOk-NC9",
        "outputId": "947d231e-6025-45cf-b465-89ca5ef4f127"
      },
      "execution_count": null,
      "outputs": [
        {
          "output_type": "stream",
          "name": "stdout",
          "text": [
            "optimal j: 2\n"
          ]
        },
        {
          "output_type": "stream",
          "name": "stderr",
          "text": [
            "<ipython-input-18-ef3fd0cf534f>:42: RuntimeWarning: divide by zero encountered in log\n",
            "  j = np.argmax([m.mean + np.sqrt(2 * np.log(i) / m.sample_size) for m in models])\n",
            "<ipython-input-18-ef3fd0cf534f>:42: RuntimeWarning: invalid value encountered in sqrt\n",
            "  j = np.argmax([m.mean + np.sqrt(2 * np.log(i) / m.sample_size) for m in models])\n",
            "<ipython-input-18-ef3fd0cf534f>:42: RuntimeWarning: invalid value encountered in double_scalars\n",
            "  j = np.argmax([m.mean + np.sqrt(2 * np.log(i) / m.sample_size) for m in models])\n",
            "<ipython-input-18-ef3fd0cf534f>:42: RuntimeWarning: divide by zero encountered in double_scalars\n",
            "  j = np.argmax([m.mean + np.sqrt(2 * np.log(i) / m.sample_size) for m in models])\n"
          ]
        },
        {
          "output_type": "stream",
          "name": "stdout",
          "text": [
            "mean estimate: 0.25000000000000006\n",
            "mean estimate: 0.4383561643835616\n",
            "mean estimate: 0.7512768130745662\n",
            "total reward earned: 7435.0\n",
            "overall win rate: 0.7435\n",
            "num_times_explored: 0\n",
            "num_times_exploited: 10000\n",
            "num times selected optimal bandit: 9790\n"
          ]
        },
        {
          "output_type": "display_data",
          "data": {
            "text/plain": [
              "<Figure size 640x480 with 1 Axes>"
            ],
            "image/png": "[encoded data removed]"
          },
          "metadata": {}
        }
      ]
    }
  ],
  "metadata": {
    "kernelspec": {
      "display_name": "Python 3",
      "language": "python",
      "name": "python3"
    },
    "language_info": {
      "codemirror_mode": {
        "name": "ipython",
        "version": 3
      },
      "file_extension": ".py",
      "mimetype": "text/x-python",
      "name": "python",
      "nbconvert_exporter": "python",
      "pygments_lexer": "ipython3",
      "version": "3.8.10"
    },
    "vscode": {
      "interpreter": {
        "hash": "916dbcbb3f70747c44a77c7bcd40155683ae19c65e1c03b4aa3499c5328201f1"
      }
    },
    "colab": {
      "provenance": []
    }
  },
  "nbformat": 4,
  "nbformat_minor": 0
}