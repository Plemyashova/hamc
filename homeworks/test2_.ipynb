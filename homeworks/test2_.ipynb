{
 "cells": [
  {
   "attachments": {},
   "cell_type": "markdown",
   "metadata": {},
   "source": [
    "# Test 2\n",
    "***\n",
    "\n",
    "We are going to work with the following dataset: fluid current in a tube.\n",
    "Some statistics are collected for dataset, incl. mean, skewness, kurtosis, etc. We are predicting flow rate ('tohn/hour'). We need to build confidence and predictive intervals."
   ]
  },
  {
   "cell_type": "code",
   "execution_count": 2,
   "metadata": {},
   "outputs": [],
   "source": [
    "%matplotlib inline\n",
    "\n",
    "import numpy as np\n",
    "from sklearn import datasets, linear_model, preprocessing, model_selection\n",
    "from sklearn.utils import shuffle\n",
    "import matplotlib.pyplot as plt\n",
    "import pandas as pd"
   ]
  },
  {
   "cell_type": "code",
   "execution_count": 3,
   "metadata": {
    "collapsed": true
   },
   "outputs": [],
   "source": [
    "df = pd.read_csv('exxsol_data.csv', sep=';', header=(0))"
   ]
  },
  {
   "cell_type": "markdown",
   "metadata": {},
   "source": [
    "There are 10 features and 1 label to predict:"
   ]
  },
  {
   "cell_type": "code",
   "execution_count": 4,
   "metadata": {},
   "outputs": [
    {
     "name": "stdout",
     "output_type": "stream",
     "text": [
      "['mean' 'std' 'skew' 'kurt' 'RMS' 'crest' 'freq_peak' 'shan' 'perm' 'temp'\n",
      " 'tohn/hour']\n"
     ]
    }
   ],
   "source": [
    "print(df.columns.values)"
   ]
  },
  {
   "cell_type": "code",
   "execution_count": 5,
   "metadata": {},
   "outputs": [],
   "source": [
    "y = df['tohn/hour']\n",
    "freq_temp = df[['freq_peak','temp']]"
   ]
  },
  {
   "cell_type": "markdown",
   "metadata": {},
   "source": [
    "Physics tells us that flow rate is a function of a frequency peak and temperature."
   ]
  },
  {
   "cell_type": "code",
   "execution_count": null,
   "metadata": {},
   "outputs": [],
   "source": [
    "freq_temp, y = shuffle(freq_temp, y)\n",
    "\n",
    "# split data into training and testing sets\n",
    "#from sklearn.model_selection import train_test_split\n",
    "#train_freq, test_freq, train_y, test_y = train_test_split(freq, y, train_size=0.7, random_state=2)\n",
    "\n",
    "lr = linear_model.LinearRegression()\n",
    "predicted = model_selection.cross_val_predict(\n",
    "    lr, freq_temp, y.ravel(), cv=20)\n",
    "score = model_selection.cross_val_score(lr, freq_temp, y,\n",
    "                                         scoring='r2',cv=20)\n",
    "\n",
    "encv = linear_model.ElasticNetCV(cv=10,max_iter=3000, n_alphas=10)\n",
    "predicted_encv = model_selection.cross_val_predict(\n",
    "    encv, X, y.ravel(), cv=20)\n",
    "score_encv = model_selection.cross_val_score(encv,X, y.ravel(),\n",
    "                                         scoring='r2',cv=20)"
   ]
  },
  {
   "attachments": {},
   "cell_type": "markdown",
   "metadata": {},
   "source": [
    "1. A parsimonious model is a model that accomplishes the desired level of explanation or prediction with as few predictor variables as possible.\n",
    "\n",
    "2. The goodness of fit of a statistical model describes how well it fits a set of observations.\n",
    "\n"
   ]
  },
  {
   "attachments": {},
   "cell_type": "markdown",
   "metadata": {},
   "source": [
    "The best way to evaluate models used for prediction is cross-validation. Very briefly, we cut our dataset into say, 10 different pieces, use 9 of them to build the model and predict the outcomes for the 10th dataset. A simple mean squared difference between the observed and predicted values gives us a measure for the prediction accuracy. As we repeat this 10 times, we calculate the mean squared difference over all 10 iterations to come to a general value with a standard deviation. This allows us again to compare two models on their prediction accuracy using standard statistical techniques"
   ]
  },
  {
   "attachments": {},
   "cell_type": "markdown",
   "metadata": {},
   "source": [
    "## Q0: Evaluation based on predictions. Model selection based on $R^2$ metric. Can we choose any model based on 95% confidence interval?"
   ]
  },
  {
   "cell_type": "code",
   "execution_count": 3,
   "metadata": {},
   "outputs": [],
   "source": [
    "# Your code here"
   ]
  },
  {
   "attachments": {},
   "cell_type": "markdown",
   "metadata": {},
   "source": [
    "## Q1:  Goodness of fit. Implement AIC, AICc and compare models using these criteria"
   ]
  },
  {
   "cell_type": "code",
   "execution_count": 4,
   "metadata": {},
   "outputs": [],
   "source": [
    "# Your code here\n"
   ]
  },
  {
   "attachments": {},
   "cell_type": "markdown",
   "metadata": {},
   "source": [
    "## Q2:  More advanced. Implement Mallow’s Cₚ criterion:\n",
    "\n"
   ]
  },
  {
   "cell_type": "code",
   "execution_count": null,
   "metadata": {},
   "outputs": [],
   "source": [
    "# Your code here\n"
   ]
  },
  {
   "attachments": {},
   "cell_type": "markdown",
   "metadata": {},
   "source": [
    "## Q3: There is also BIC criteria. Can you recommend when to use AIC vs BIC and vice versa?\n"
   ]
  },
  {
   "attachments": {},
   "cell_type": "markdown",
   "metadata": {},
   "source": [
    " Your comments here"
   ]
  }
 ],
 "metadata": {
  "kernelspec": {
   "display_name": "Python 3",
   "language": "python",
   "name": "python3"
  },
  "language_info": {
   "codemirror_mode": {
    "name": "ipython",
    "version": 3
   },
   "file_extension": ".py",
   "mimetype": "text/x-python",
   "name": "python",
   "nbconvert_exporter": "python",
   "pygments_lexer": "ipython3",
   "version": "3.8.10"
  },
  "vscode": {
   "interpreter": {
    "hash": "916dbcbb3f70747c44a77c7bcd40155683ae19c65e1c03b4aa3499c5328201f1"
   }
  }
 },
 "nbformat": 4,
 "nbformat_minor": 1
}
