{
 "cells": [
  {
   "cell_type": "markdown",
   "id": "9f8924a3",
   "metadata": {},
   "source": [
    "# Test 2\n",
    "\n",
    "\n",
    "### Рубенчик Марк Ильич, 631 гр.\n",
    "\n",
    "We are going to work with the following dataset: fluid current in a tube.\n",
    "Some statistics are collected for dataset, incl. mean, skewness, kurtosis, etc. We are predicting flow rate ('tohn/hour'). We need to build confidence and predictive intervals."
   ]
  },
  {
   "cell_type": "code",
   "execution_count": 1,
   "id": "5b3ec071",
   "metadata": {},
   "outputs": [],
   "source": [
    "%matplotlib inline\n",
    "\n",
    "import numpy as np\n",
    "from sklearn import datasets, linear_model, preprocessing, model_selection\n",
    "from sklearn.utils import shuffle\n",
    "import matplotlib.pyplot as plt\n",
    "import pandas as pd\n",
    "\n",
    "import statsmodels.stats.api as sms"
   ]
  },
  {
   "cell_type": "code",
   "execution_count": 2,
   "id": "f7f59f63",
   "metadata": {},
   "outputs": [
    {
     "name": "stdout",
     "output_type": "stream",
     "text": [
      "['mean' 'std' 'skew' 'kurt' 'RMS' 'crest' 'freq_peak' 'shan' 'perm' 'temp'\n",
      " 'tohn/hour']\n"
     ]
    },
    {
     "data": {
      "text/html": [
       "<div>\n",
       "<style scoped>\n",
       "    .dataframe tbody tr th:only-of-type {\n",
       "        vertical-align: middle;\n",
       "    }\n",
       "\n",
       "    .dataframe tbody tr th {\n",
       "        vertical-align: top;\n",
       "    }\n",
       "\n",
       "    .dataframe thead th {\n",
       "        text-align: right;\n",
       "    }\n",
       "</style>\n",
       "<table border=\"1\" class=\"dataframe\">\n",
       "  <thead>\n",
       "    <tr style=\"text-align: right;\">\n",
       "      <th></th>\n",
       "      <th>mean</th>\n",
       "      <th>std</th>\n",
       "      <th>skew</th>\n",
       "      <th>kurt</th>\n",
       "      <th>RMS</th>\n",
       "      <th>crest</th>\n",
       "      <th>freq_peak</th>\n",
       "      <th>shan</th>\n",
       "      <th>perm</th>\n",
       "      <th>temp</th>\n",
       "      <th>tohn/hour</th>\n",
       "    </tr>\n",
       "  </thead>\n",
       "  <tbody>\n",
       "    <tr>\n",
       "      <th>0</th>\n",
       "      <td>0.025639</td>\n",
       "      <td>0.946336</td>\n",
       "      <td>-0.034895</td>\n",
       "      <td>-1.491265</td>\n",
       "      <td>0.946674</td>\n",
       "      <td>0.888424</td>\n",
       "      <td>526.01052</td>\n",
       "      <td>9.584955</td>\n",
       "      <td>1.000464</td>\n",
       "      <td>21.14</td>\n",
       "      <td>3.49</td>\n",
       "    </tr>\n",
       "    <tr>\n",
       "      <th>1</th>\n",
       "      <td>0.025639</td>\n",
       "      <td>0.946336</td>\n",
       "      <td>-0.034895</td>\n",
       "      <td>-1.491265</td>\n",
       "      <td>0.946674</td>\n",
       "      <td>0.888424</td>\n",
       "      <td>526.01052</td>\n",
       "      <td>9.584955</td>\n",
       "      <td>1.000464</td>\n",
       "      <td>21.14</td>\n",
       "      <td>3.49</td>\n",
       "    </tr>\n",
       "    <tr>\n",
       "      <th>2</th>\n",
       "      <td>0.016856</td>\n",
       "      <td>0.952439</td>\n",
       "      <td>-0.037338</td>\n",
       "      <td>-1.504434</td>\n",
       "      <td>0.952579</td>\n",
       "      <td>0.943467</td>\n",
       "      <td>530.01060</td>\n",
       "      <td>9.402718</td>\n",
       "      <td>0.991088</td>\n",
       "      <td>21.14</td>\n",
       "      <td>3.49</td>\n",
       "    </tr>\n",
       "    <tr>\n",
       "      <th>3</th>\n",
       "      <td>0.016856</td>\n",
       "      <td>0.952439</td>\n",
       "      <td>-0.037338</td>\n",
       "      <td>-1.504434</td>\n",
       "      <td>0.952579</td>\n",
       "      <td>0.943467</td>\n",
       "      <td>530.01060</td>\n",
       "      <td>9.402718</td>\n",
       "      <td>0.991088</td>\n",
       "      <td>21.14</td>\n",
       "      <td>3.49</td>\n",
       "    </tr>\n",
       "    <tr>\n",
       "      <th>4</th>\n",
       "      <td>0.031998</td>\n",
       "      <td>0.972590</td>\n",
       "      <td>-0.056116</td>\n",
       "      <td>-1.546518</td>\n",
       "      <td>0.973106</td>\n",
       "      <td>0.921600</td>\n",
       "      <td>256.00512</td>\n",
       "      <td>9.020444</td>\n",
       "      <td>0.973701</td>\n",
       "      <td>21.14</td>\n",
       "      <td>3.56</td>\n",
       "    </tr>\n",
       "  </tbody>\n",
       "</table>\n",
       "</div>"
      ],
      "text/plain": [
       "       mean       std      skew      kurt       RMS     crest  freq_peak  \\\n",
       "0  0.025639  0.946336 -0.034895 -1.491265  0.946674  0.888424  526.01052   \n",
       "1  0.025639  0.946336 -0.034895 -1.491265  0.946674  0.888424  526.01052   \n",
       "2  0.016856  0.952439 -0.037338 -1.504434  0.952579  0.943467  530.01060   \n",
       "3  0.016856  0.952439 -0.037338 -1.504434  0.952579  0.943467  530.01060   \n",
       "4  0.031998  0.972590 -0.056116 -1.546518  0.973106  0.921600  256.00512   \n",
       "\n",
       "       shan      perm   temp  tohn/hour  \n",
       "0  9.584955  1.000464  21.14       3.49  \n",
       "1  9.584955  1.000464  21.14       3.49  \n",
       "2  9.402718  0.991088  21.14       3.49  \n",
       "3  9.402718  0.991088  21.14       3.49  \n",
       "4  9.020444  0.973701  21.14       3.56  "
      ]
     },
     "execution_count": 2,
     "metadata": {},
     "output_type": "execute_result"
    }
   ],
   "source": [
    "data = pd.read_csv('exxsol_data.csv', sep=';', header=(0))\n",
    "\n",
    "print(data.columns.values)\n",
    "\n",
    "data.head()"
   ]
  },
  {
   "cell_type": "code",
   "execution_count": 3,
   "id": "fc331ab1",
   "metadata": {},
   "outputs": [],
   "source": [
    "y = data['tohn/hour']\n",
    "freq_temp = data[['freq_peak','temp']]"
   ]
  },
  {
   "cell_type": "markdown",
   "id": "40721d7e",
   "metadata": {},
   "source": [
    "Physics tells us that flow rate is a function of a frequency peak and temperature."
   ]
  },
  {
   "cell_type": "code",
   "execution_count": 4,
   "id": "0a519005",
   "metadata": {},
   "outputs": [],
   "source": [
    "freq_temp, y = shuffle(freq_temp, y)"
   ]
  },
  {
   "cell_type": "code",
   "execution_count": 5,
   "id": "5ea9deb2",
   "metadata": {},
   "outputs": [],
   "source": [
    "# split data into training and testing sets\n",
    "#from sklearn.model_selection import train_test_split\n",
    "#train_freq, test_freq, train_y, test_y = train_test_split(freq, y, train_size=0.7, random_state=2)\n",
    "\n",
    "model_lr = linear_model.LinearRegression()\n",
    "pred = model_selection.cross_val_predict(model_lr,freq_temp, y.ravel(), cv=20)\n",
    "scores_r2 = model_selection.cross_val_score(model_lr, freq_temp, y, scoring='r2',cv=20)"
   ]
  },
  {
   "cell_type": "code",
   "execution_count": 6,
   "id": "22c14c81",
   "metadata": {},
   "outputs": [],
   "source": [
    "model_elastic = linear_model.ElasticNetCV(cv=10, max_iter=3000, n_alphas=10)\n",
    "pred_elastic = model_selection.cross_val_predict(model_elastic, freq_temp, y.ravel(), cv=20)\n",
    "scores_r2_elastic = model_selection.cross_val_score(model_elastic, freq_temp, y.ravel(), scoring='r2',cv=20)"
   ]
  },
  {
   "cell_type": "markdown",
   "id": "1fc583c0",
   "metadata": {},
   "source": [
    "## Q0: Evaluation based on predictions. Model selection based on $R^2$ metric. Can we choose any model based on 95% confidence interval?"
   ]
  },
  {
   "cell_type": "markdown",
   "id": "d56ddde3",
   "metadata": {},
   "source": [
    "Чтобы сравнить $R^2$-оценки, мы будем использовать t-тест для разности средних. Допустим, что у нас есть две модели с истинными значениями $R^2_1$ и $R^2_2$ соответственно. Мы предполагаем, что вторая модель с регуляризацией лучше, чем первая модель, потому что она может предотвратить переобучение. \n",
    "\n",
    "Сформулируем гипотезы:\n",
    "\n",
    "$H_0: R^2_1 = R^2_2$,\n",
    "\n",
    "$H_1: R^2_1 < R^2_2$."
   ]
  },
  {
   "cell_type": "code",
   "execution_count": 7,
   "id": "a7d6641b",
   "metadata": {},
   "outputs": [],
   "source": [
    "alpha = 0.05"
   ]
  },
  {
   "cell_type": "code",
   "execution_count": 8,
   "id": "931593fd",
   "metadata": {},
   "outputs": [
    {
     "data": {
      "text/plain": [
       "(-0.012150965640723425, inf)"
      ]
     },
     "execution_count": 8,
     "metadata": {},
     "output_type": "execute_result"
    }
   ],
   "source": [
    "Comp_Means = sms.CompareMeans(sms.DescrStatsW(scores_r2), sms.DescrStatsW(scores_r2_elastic))\n",
    "Comp_Means.tconfint_diff(alternative = 'larger', usevar='pooled', alpha = alpha)"
   ]
  },
  {
   "cell_type": "markdown",
   "id": "5de596df",
   "metadata": {},
   "source": [
    "Как мы видим, $0$ попадает в этот доверительный интервал. Поэтому мы не можем утверждать, что значение $R^2$ у этих моделей отличаются друг от друга на уровне значимости $\\alpha = 0.05$.\n"
   ]
  },
  {
   "cell_type": "markdown",
   "id": "06714878",
   "metadata": {},
   "source": [
    "## Q1:  Goodness of fit. Implement AIC, AICc and compare models using these criteria\n",
    "\n",
    "Обе модели - регрессии, построенные на $2$ факторах, поэтому в моделях будет $k = 3$ параметра:"
   ]
  },
  {
   "cell_type": "code",
   "execution_count": 9,
   "id": "9524b23b",
   "metadata": {},
   "outputs": [],
   "source": [
    "def AIC_crit(y, y_pred, n_params):\n",
    "    n = y_pred.shape[0]\n",
    "    rss = np.sum((y_pred - y)**2)\n",
    "    return float(2*n_params + n * np.log(rss))"
   ]
  },
  {
   "cell_type": "code",
   "execution_count": 12,
   "id": "1b6e53ce",
   "metadata": {},
   "outputs": [
    {
     "name": "stdout",
     "output_type": "stream",
     "text": [
      "AIC for linear model:  3322.4686695808296\n"
     ]
    }
   ],
   "source": [
    "AIC = AIC_crit(y, pred, 3)\n",
    "print(\"AIC for linear model: \",AIC)"
   ]
  },
  {
   "cell_type": "code",
   "execution_count": 14,
   "id": "2fd720ee",
   "metadata": {},
   "outputs": [
    {
     "name": "stdout",
     "output_type": "stream",
     "text": [
      "AIC for elastic linear model:  3497.4976003328957\n"
     ]
    }
   ],
   "source": [
    "AIC_elastic = AIC_crit(y, pred_elastic, 3)\n",
    "print(\"AIC for elastic linear model: \",AIC_elastic)"
   ]
  },
  {
   "cell_type": "markdown",
   "id": "8440db5c",
   "metadata": {},
   "source": [
    "Как видно, первая модель более предпочтительна, чем вторая."
   ]
  },
  {
   "cell_type": "code",
   "execution_count": 15,
   "id": "bff25dba",
   "metadata": {},
   "outputs": [],
   "source": [
    "def AIC_crit_c(y, y_pred, n_params):\n",
    "    n = y_pred.shape[0]\n",
    "    rss = np.sum((y_pred - y)**2)\n",
    "    return float((n + n_params)/(n - n_params - 2) +  np.log(rss/n))"
   ]
  },
  {
   "cell_type": "code",
   "execution_count": 17,
   "id": "5bccffa1",
   "metadata": {},
   "outputs": [
    {
     "name": "stdout",
     "output_type": "stream",
     "text": [
      "AICc for linear model:  -0.8017571585610268\n"
     ]
    }
   ],
   "source": [
    "AICc = AIC_crit_c(y, pred, 3)\n",
    "print(\"AICc for linear model: \",AICc)"
   ]
  },
  {
   "cell_type": "code",
   "execution_count": 19,
   "id": "56c1b30d",
   "metadata": {},
   "outputs": [
    {
     "name": "stdout",
     "output_type": "stream",
     "text": [
      "AICc for elastic linear model:  -0.5517158289152184\n"
     ]
    }
   ],
   "source": [
    "AICc_elastic = AIC_crit_c(y, pred_elastic, 3)\n",
    "print(\"AICc for elastic linear model: \",AICc_elastic)"
   ]
  },
  {
   "cell_type": "markdown",
   "id": "f48ca376",
   "metadata": {},
   "source": [
    "Как видно, первая модель регрессии более предпочтительна, чем вторая, но не сильно. Значения показателей отличаются, но не сильно в порядке 9 процентов для AIC и 30 процентов для AICc"
   ]
  },
  {
   "cell_type": "markdown",
   "id": "d7c72348",
   "metadata": {},
   "source": [
    "## Q2:  More advanced. Implement Mallow’s Cₚ criterion:\n",
    "\n",
    "Wiki defenition of Mallows $C_p$:\n",
    "\n",
    "$C_{p}={\\frac {1}{n}}(\\operatorname{RSS} +2p{\\hat\\sigma}^{2})$"
   ]
  },
  {
   "cell_type": "code",
   "execution_count": 20,
   "id": "bfe89bf4",
   "metadata": {},
   "outputs": [],
   "source": [
    "def Mallow_c(y, y_pred, n_params):\n",
    "    n = y_pred.shape[0]\n",
    "    rss = np.sum((y_pred - y)**2)\n",
    "    sigma = y_pred.std()\n",
    "    return float((1/n)*(rss + 2*(n_params - 1)*sigma**2))"
   ]
  },
  {
   "cell_type": "code",
   "execution_count": 22,
   "id": "0ad8cfcd",
   "metadata": {},
   "outputs": [
    {
     "name": "stdout",
     "output_type": "stream",
     "text": [
      "Mallow for linear model:  0.16786678290258522\n"
     ]
    }
   ],
   "source": [
    "mallow = Mallow_c(y, pred, 3)\n",
    "print(\"Mallow for linear model: \",mallow)"
   ]
  },
  {
   "cell_type": "code",
   "execution_count": 23,
   "id": "535b58a2",
   "metadata": {},
   "outputs": [
    {
     "name": "stdout",
     "output_type": "stream",
     "text": [
      "Mallow for elastic linear model:  0.213687121709552\n"
     ]
    }
   ],
   "source": [
    "mallow_elastic = Mallow_c(y, pred_elastic, 3)\n",
    "print(\"Mallow for elastic linear model: \",mallow_elastic)"
   ]
  },
  {
   "cell_type": "markdown",
   "id": "da28234a",
   "metadata": {},
   "source": [
    "## Q3: There is also BIC criteria. Can you recommend when to use AIC vs BIC and vice versa?"
   ]
  },
  {
   "cell_type": "markdown",
   "id": "5eccc797",
   "metadata": {},
   "source": [
    "AIC и BIC предназначены для разных задач и случаев.\n",
    "\n",
    "AIC используется в ситуации, когда не обязательно предполагается существование какой-либо модели. Вместо этого есть набор эффектов и мы можем получить значения ошибок прогноза. По мере увеличения размера выборки применимость AIC также увеличивается, так как увеличивается влияние меньших эффектов.\n",
    "\n",
    "\n",
    "С другой стороны, BIC предполагает, что модель существует и должна быть выбрана. В БИК есть функция выделения одной модели по мере роста числа дел, в АИК нет. По мере увеличения размера выборки AIC выбирает параметрически большие модели, чем BIC."
   ]
  },
  {
   "cell_type": "code",
   "execution_count": null,
   "id": "c53f75d6",
   "metadata": {},
   "outputs": [],
   "source": []
  }
 ],
 "metadata": {
  "kernelspec": {
   "display_name": "Python 3 (ipykernel)",
   "language": "python",
   "name": "python3"
  },
  "language_info": {
   "codemirror_mode": {
    "name": "ipython",
    "version": 3
   },
   "file_extension": ".py",
   "mimetype": "text/x-python",
   "name": "python",
   "nbconvert_exporter": "python",
   "pygments_lexer": "ipython3",
   "version": "3.9.12"
  }
 },
 "nbformat": 4,
 "nbformat_minor": 5
}
