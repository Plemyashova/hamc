{
 "cells": [
  {
   "cell_type": "markdown",
   "metadata": {},
   "source": [
    "# Test 2\n",
    "***\n",
    "\n",
    "### Выполнил Федотов Р. А., 531 гр.\n",
    "\n",
    "We are going to work with the following dataset: fluid current in a tube.\n",
    "Some statistics are collected for dataset, incl. mean, skewness, kurtosis, etc. We are predicting flow rate ('tohn/hour'). We need to build confidence and predictive intervals."
   ]
  },
  {
   "cell_type": "code",
   "execution_count": 1,
   "metadata": {
    "ExecuteTime": {
     "end_time": "2023-04-09T17:54:17.502910Z",
     "start_time": "2023-04-09T17:54:16.422060Z"
    }
   },
   "outputs": [],
   "source": [
    "%matplotlib inline\n",
    "\n",
    "import numpy as np\n",
    "from sklearn import datasets, linear_model, preprocessing, model_selection\n",
    "from sklearn.utils import shuffle\n",
    "import matplotlib.pyplot as plt\n",
    "import pandas as pd"
   ]
  },
  {
   "cell_type": "code",
   "execution_count": 36,
   "metadata": {
    "ExecuteTime": {
     "end_time": "2023-04-09T19:35:26.967742Z",
     "start_time": "2023-04-09T19:35:26.964919Z"
    }
   },
   "outputs": [],
   "source": [
    "import statsmodels.stats.api as sms"
   ]
  },
  {
   "cell_type": "code",
   "execution_count": 2,
   "metadata": {
    "ExecuteTime": {
     "end_time": "2023-04-09T17:54:18.779842Z",
     "start_time": "2023-04-09T17:54:18.773015Z"
    }
   },
   "outputs": [],
   "source": [
    "df = pd.read_csv('exxsol_data.csv', sep=';', header=(0))"
   ]
  },
  {
   "cell_type": "markdown",
   "metadata": {},
   "source": [
    "There are 10 features and 1 label to predict:"
   ]
  },
  {
   "cell_type": "code",
   "execution_count": 3,
   "metadata": {
    "ExecuteTime": {
     "end_time": "2023-04-09T17:54:20.601584Z",
     "start_time": "2023-04-09T17:54:20.598337Z"
    }
   },
   "outputs": [
    {
     "name": "stdout",
     "output_type": "stream",
     "text": [
      "['mean' 'std' 'skew' 'kurt' 'RMS' 'crest' 'freq_peak' 'shan' 'perm' 'temp'\n",
      " 'tohn/hour']\n"
     ]
    }
   ],
   "source": [
    "print(df.columns.values)"
   ]
  },
  {
   "cell_type": "code",
   "execution_count": 4,
   "metadata": {
    "ExecuteTime": {
     "end_time": "2023-04-09T17:54:24.108810Z",
     "start_time": "2023-04-09T17:54:24.090516Z"
    }
   },
   "outputs": [
    {
     "data": {
      "text/html": [
       "<div>\n",
       "<style scoped>\n",
       "    .dataframe tbody tr th:only-of-type {\n",
       "        vertical-align: middle;\n",
       "    }\n",
       "\n",
       "    .dataframe tbody tr th {\n",
       "        vertical-align: top;\n",
       "    }\n",
       "\n",
       "    .dataframe thead th {\n",
       "        text-align: right;\n",
       "    }\n",
       "</style>\n",
       "<table border=\"1\" class=\"dataframe\">\n",
       "  <thead>\n",
       "    <tr style=\"text-align: right;\">\n",
       "      <th></th>\n",
       "      <th>mean</th>\n",
       "      <th>std</th>\n",
       "      <th>skew</th>\n",
       "      <th>kurt</th>\n",
       "      <th>RMS</th>\n",
       "      <th>crest</th>\n",
       "      <th>freq_peak</th>\n",
       "      <th>shan</th>\n",
       "      <th>perm</th>\n",
       "      <th>temp</th>\n",
       "      <th>tohn/hour</th>\n",
       "    </tr>\n",
       "  </thead>\n",
       "  <tbody>\n",
       "    <tr>\n",
       "      <th>0</th>\n",
       "      <td>0.025639</td>\n",
       "      <td>0.946336</td>\n",
       "      <td>-0.034895</td>\n",
       "      <td>-1.491265</td>\n",
       "      <td>0.946674</td>\n",
       "      <td>0.888424</td>\n",
       "      <td>526.01052</td>\n",
       "      <td>9.584955</td>\n",
       "      <td>1.000464</td>\n",
       "      <td>21.14</td>\n",
       "      <td>3.49</td>\n",
       "    </tr>\n",
       "    <tr>\n",
       "      <th>1</th>\n",
       "      <td>0.025639</td>\n",
       "      <td>0.946336</td>\n",
       "      <td>-0.034895</td>\n",
       "      <td>-1.491265</td>\n",
       "      <td>0.946674</td>\n",
       "      <td>0.888424</td>\n",
       "      <td>526.01052</td>\n",
       "      <td>9.584955</td>\n",
       "      <td>1.000464</td>\n",
       "      <td>21.14</td>\n",
       "      <td>3.49</td>\n",
       "    </tr>\n",
       "    <tr>\n",
       "      <th>2</th>\n",
       "      <td>0.016856</td>\n",
       "      <td>0.952439</td>\n",
       "      <td>-0.037338</td>\n",
       "      <td>-1.504434</td>\n",
       "      <td>0.952579</td>\n",
       "      <td>0.943467</td>\n",
       "      <td>530.01060</td>\n",
       "      <td>9.402718</td>\n",
       "      <td>0.991088</td>\n",
       "      <td>21.14</td>\n",
       "      <td>3.49</td>\n",
       "    </tr>\n",
       "    <tr>\n",
       "      <th>3</th>\n",
       "      <td>0.016856</td>\n",
       "      <td>0.952439</td>\n",
       "      <td>-0.037338</td>\n",
       "      <td>-1.504434</td>\n",
       "      <td>0.952579</td>\n",
       "      <td>0.943467</td>\n",
       "      <td>530.01060</td>\n",
       "      <td>9.402718</td>\n",
       "      <td>0.991088</td>\n",
       "      <td>21.14</td>\n",
       "      <td>3.49</td>\n",
       "    </tr>\n",
       "    <tr>\n",
       "      <th>4</th>\n",
       "      <td>0.031998</td>\n",
       "      <td>0.972590</td>\n",
       "      <td>-0.056116</td>\n",
       "      <td>-1.546518</td>\n",
       "      <td>0.973106</td>\n",
       "      <td>0.921600</td>\n",
       "      <td>256.00512</td>\n",
       "      <td>9.020444</td>\n",
       "      <td>0.973701</td>\n",
       "      <td>21.14</td>\n",
       "      <td>3.56</td>\n",
       "    </tr>\n",
       "    <tr>\n",
       "      <th>...</th>\n",
       "      <td>...</td>\n",
       "      <td>...</td>\n",
       "      <td>...</td>\n",
       "      <td>...</td>\n",
       "      <td>...</td>\n",
       "      <td>...</td>\n",
       "      <td>...</td>\n",
       "      <td>...</td>\n",
       "      <td>...</td>\n",
       "      <td>...</td>\n",
       "      <td>...</td>\n",
       "    </tr>\n",
       "    <tr>\n",
       "      <th>695</th>\n",
       "      <td>0.020624</td>\n",
       "      <td>0.458015</td>\n",
       "      <td>0.135061</td>\n",
       "      <td>-0.499570</td>\n",
       "      <td>0.458475</td>\n",
       "      <td>0.819037</td>\n",
       "      <td>8.00016</td>\n",
       "      <td>13.284682</td>\n",
       "      <td>1.220259</td>\n",
       "      <td>24.10</td>\n",
       "      <td>0.56</td>\n",
       "    </tr>\n",
       "    <tr>\n",
       "      <th>696</th>\n",
       "      <td>-0.001068</td>\n",
       "      <td>0.628883</td>\n",
       "      <td>0.098332</td>\n",
       "      <td>-0.610439</td>\n",
       "      <td>0.628878</td>\n",
       "      <td>0.845106</td>\n",
       "      <td>6.00012</td>\n",
       "      <td>12.998447</td>\n",
       "      <td>1.174423</td>\n",
       "      <td>24.10</td>\n",
       "      <td>0.56</td>\n",
       "    </tr>\n",
       "    <tr>\n",
       "      <th>697</th>\n",
       "      <td>-0.001068</td>\n",
       "      <td>0.628883</td>\n",
       "      <td>0.098332</td>\n",
       "      <td>-0.610439</td>\n",
       "      <td>0.628878</td>\n",
       "      <td>0.845106</td>\n",
       "      <td>6.00012</td>\n",
       "      <td>12.998447</td>\n",
       "      <td>1.174423</td>\n",
       "      <td>24.10</td>\n",
       "      <td>0.56</td>\n",
       "    </tr>\n",
       "    <tr>\n",
       "      <th>698</th>\n",
       "      <td>-0.050864</td>\n",
       "      <td>0.558909</td>\n",
       "      <td>-0.025527</td>\n",
       "      <td>-0.160860</td>\n",
       "      <td>0.561213</td>\n",
       "      <td>0.828625</td>\n",
       "      <td>6.00012</td>\n",
       "      <td>13.042021</td>\n",
       "      <td>1.196795</td>\n",
       "      <td>24.10</td>\n",
       "      <td>0.56</td>\n",
       "    </tr>\n",
       "    <tr>\n",
       "      <th>699</th>\n",
       "      <td>-0.050864</td>\n",
       "      <td>0.558909</td>\n",
       "      <td>-0.025527</td>\n",
       "      <td>-0.160860</td>\n",
       "      <td>0.561213</td>\n",
       "      <td>0.828625</td>\n",
       "      <td>6.00012</td>\n",
       "      <td>13.042021</td>\n",
       "      <td>1.196795</td>\n",
       "      <td>24.10</td>\n",
       "      <td>0.56</td>\n",
       "    </tr>\n",
       "  </tbody>\n",
       "</table>\n",
       "<p>700 rows × 11 columns</p>\n",
       "</div>"
      ],
      "text/plain": [
       "         mean       std      skew      kurt       RMS     crest  freq_peak  \\\n",
       "0    0.025639  0.946336 -0.034895 -1.491265  0.946674  0.888424  526.01052   \n",
       "1    0.025639  0.946336 -0.034895 -1.491265  0.946674  0.888424  526.01052   \n",
       "2    0.016856  0.952439 -0.037338 -1.504434  0.952579  0.943467  530.01060   \n",
       "3    0.016856  0.952439 -0.037338 -1.504434  0.952579  0.943467  530.01060   \n",
       "4    0.031998  0.972590 -0.056116 -1.546518  0.973106  0.921600  256.00512   \n",
       "..        ...       ...       ...       ...       ...       ...        ...   \n",
       "695  0.020624  0.458015  0.135061 -0.499570  0.458475  0.819037    8.00016   \n",
       "696 -0.001068  0.628883  0.098332 -0.610439  0.628878  0.845106    6.00012   \n",
       "697 -0.001068  0.628883  0.098332 -0.610439  0.628878  0.845106    6.00012   \n",
       "698 -0.050864  0.558909 -0.025527 -0.160860  0.561213  0.828625    6.00012   \n",
       "699 -0.050864  0.558909 -0.025527 -0.160860  0.561213  0.828625    6.00012   \n",
       "\n",
       "          shan      perm   temp  tohn/hour  \n",
       "0     9.584955  1.000464  21.14       3.49  \n",
       "1     9.584955  1.000464  21.14       3.49  \n",
       "2     9.402718  0.991088  21.14       3.49  \n",
       "3     9.402718  0.991088  21.14       3.49  \n",
       "4     9.020444  0.973701  21.14       3.56  \n",
       "..         ...       ...    ...        ...  \n",
       "695  13.284682  1.220259  24.10       0.56  \n",
       "696  12.998447  1.174423  24.10       0.56  \n",
       "697  12.998447  1.174423  24.10       0.56  \n",
       "698  13.042021  1.196795  24.10       0.56  \n",
       "699  13.042021  1.196795  24.10       0.56  \n",
       "\n",
       "[700 rows x 11 columns]"
      ]
     },
     "execution_count": 4,
     "metadata": {},
     "output_type": "execute_result"
    }
   ],
   "source": [
    "df"
   ]
  },
  {
   "cell_type": "code",
   "execution_count": 5,
   "metadata": {
    "ExecuteTime": {
     "end_time": "2023-04-09T17:56:17.682307Z",
     "start_time": "2023-04-09T17:56:17.678427Z"
    }
   },
   "outputs": [],
   "source": [
    "y = df['tohn/hour']\n",
    "freq_temp = df[['freq_peak','temp']]"
   ]
  },
  {
   "cell_type": "markdown",
   "metadata": {},
   "source": [
    "Physics tells us that flow rate is a function of a frequency peak and temperature."
   ]
  },
  {
   "cell_type": "code",
   "execution_count": 6,
   "metadata": {
    "ExecuteTime": {
     "end_time": "2023-04-09T17:56:48.071214Z",
     "start_time": "2023-04-09T17:56:48.067560Z"
    }
   },
   "outputs": [],
   "source": [
    "freq_temp, y = shuffle(freq_temp, y)"
   ]
  },
  {
   "cell_type": "code",
   "execution_count": 51,
   "metadata": {
    "ExecuteTime": {
     "end_time": "2023-04-09T20:41:23.502231Z",
     "start_time": "2023-04-09T20:41:23.394136Z"
    }
   },
   "outputs": [],
   "source": [
    "freq_temp, y = shuffle(freq_temp, y)\n",
    "\n",
    "# split data into training and testing sets\n",
    "#from sklearn.model_selection import train_test_split\n",
    "#train_freq, test_freq, train_y, test_y = train_test_split(freq, y, train_size=0.7, random_state=2)\n",
    "\n",
    "model_lr = linear_model.LinearRegression()\n",
    "pred = model_selection.cross_val_predict(model_lr,freq_temp, y.ravel(), cv=20)\n",
    "scores_r2 = model_selection.cross_val_score(model_lr, freq_temp, y, scoring='r2',cv=20)"
   ]
  },
  {
   "cell_type": "code",
   "execution_count": 33,
   "metadata": {
    "ExecuteTime": {
     "end_time": "2023-04-09T19:28:46.307694Z",
     "start_time": "2023-04-09T19:28:45.772683Z"
    }
   },
   "outputs": [],
   "source": [
    "model_elastic = linear_model.ElasticNetCV(cv=10, max_iter=3000, n_alphas=10)\n",
    "pred_elastic = model_selection.cross_val_predict(model_elastic, freq_temp, y.ravel(), cv=20)\n",
    "scores_r2_elastic = model_selection.cross_val_score(model_elastic, freq_temp, y.ravel(), scoring='r2',cv=20)"
   ]
  },
  {
   "cell_type": "markdown",
   "metadata": {},
   "source": [
    "## Q0: Evaluation based on predictions. Model selection based on $R^2$ metric. Can we choose any model based on 95% confidence interval?\n"
   ]
  },
  {
   "cell_type": "markdown",
   "metadata": {
    "ExecuteTime": {
     "end_time": "2023-04-09T18:21:43.871329Z",
     "start_time": "2023-04-09T18:21:43.602901Z"
    }
   },
   "source": [
    "Для сравнения $R^2$-оценок воспользуемся t-test for mean difference.\n",
    "\n",
    "Пусть $R^2_1$ - истинное значение $R^2$ для первой модели, $R^2_2$ - истинное значение $R^2$ для второй модели. Предположим, что мы считаем, что вторая модель с регуляризацией лучше, чем первая: например, потому, что она может избежать переобучения. \n",
    "\n",
    "Гипотеза:\n",
    "\n",
    "$H_0: R^2_1 = R^2_2$\n",
    "\n",
    "$H_1: R^2_1 < R^2_2$"
   ]
  },
  {
   "cell_type": "code",
   "execution_count": 47,
   "metadata": {
    "ExecuteTime": {
     "end_time": "2023-04-09T20:19:58.994063Z",
     "start_time": "2023-04-09T20:19:58.989404Z"
    }
   },
   "outputs": [
    {
     "data": {
      "text/plain": [
       "(-0.08316724393142731, inf)"
      ]
     },
     "execution_count": 47,
     "metadata": {},
     "output_type": "execute_result"
    }
   ],
   "source": [
    "alpha = 0.05\n",
    "\n",
    "cm = sms.CompareMeans(sms.DescrStatsW(scores_r2), sms.DescrStatsW(scores_r2_elastic))\n",
    "cm.tconfint_diff(alternative = 'larger', usevar='pooled', alpha = alpha)"
   ]
  },
  {
   "cell_type": "markdown",
   "metadata": {
    "ExecuteTime": {
     "end_time": "2023-04-09T18:22:04.961546Z",
     "start_time": "2023-04-09T18:22:04.958279Z"
    }
   },
   "source": [
    "Видим, что $0$ попадает в этот доверительный интервал. Следовательно, мы не можем утверждать, что $R^2$ у этих моделей отличаются друг от друга на уровне $\\alpha = 0.05$."
   ]
  },
  {
   "cell_type": "markdown",
   "metadata": {},
   "source": [
    "## Q1:  Goodness of fit. Implement AIC, AICc and compare models using these criteria\n",
    "\n",
    "Так как обе модели - регрессии, построенные на $2$ факторах, то в обеих моделях будет $k = 3$ параметра:"
   ]
  },
  {
   "cell_type": "code",
   "execution_count": 53,
   "metadata": {
    "ExecuteTime": {
     "end_time": "2023-04-09T20:41:40.719541Z",
     "start_time": "2023-04-09T20:41:40.716344Z"
    }
   },
   "outputs": [],
   "source": [
    "def aic_criterion(y_true: np.ndarray, y_pred: np.ndarray, n_params: int) -> float:\n",
    "    n = y_pred.shape[0]\n",
    "    rss = np.sum((y_pred - y_true)**2)\n",
    "    return 2*n_params + n * np.log(rss)"
   ]
  },
  {
   "cell_type": "code",
   "execution_count": 63,
   "metadata": {
    "ExecuteTime": {
     "end_time": "2023-04-09T20:45:44.446266Z",
     "start_time": "2023-04-09T20:45:44.442093Z"
    }
   },
   "outputs": [
    {
     "name": "stdout",
     "output_type": "stream",
     "text": [
      "aic for linear model: 3321.825539884706\n"
     ]
    }
   ],
   "source": [
    "aic_lr = aic_criterion(y_true = y, y_pred = pred, n_params = 3)\n",
    "print(f'aic for linear model: {aic_lr}')"
   ]
  },
  {
   "cell_type": "code",
   "execution_count": 64,
   "metadata": {
    "ExecuteTime": {
     "end_time": "2023-04-09T20:46:04.230795Z",
     "start_time": "2023-04-09T20:46:04.226874Z"
    }
   },
   "outputs": [
    {
     "name": "stdout",
     "output_type": "stream",
     "text": [
      "aic for elastic linear model: 4937.453348990894\n"
     ]
    }
   ],
   "source": [
    "aic_elastic = aic_criterion(y_true = y, y_pred = pred_elastic, n_params = 3)\n",
    "print(f'aic for elastic linear model: {aic_elastic}')"
   ]
  },
  {
   "cell_type": "markdown",
   "metadata": {
    "ExecuteTime": {
     "end_time": "2023-04-09T20:43:36.079818Z",
     "start_time": "2023-04-09T20:43:36.073704Z"
    }
   },
   "source": [
    "Видим, что первая модель регрессии более предпочтительна, чем вторая. "
   ]
  },
  {
   "cell_type": "code",
   "execution_count": 68,
   "metadata": {
    "ExecuteTime": {
     "end_time": "2023-04-09T20:49:27.752770Z",
     "start_time": "2023-04-09T20:49:27.749279Z"
    }
   },
   "outputs": [],
   "source": [
    "def aic_criterion_c(y_true: np.ndarray, y_pred: np.ndarray, n_params: int) -> float:\n",
    "    n = y_pred.shape[0]\n",
    "    rss = np.sum((y_pred - y_true)**2)\n",
    "    return (n + n_params)/(n - n_params - 2) +  np.log(rss/n)"
   ]
  },
  {
   "cell_type": "code",
   "execution_count": 69,
   "metadata": {
    "ExecuteTime": {
     "end_time": "2023-04-09T20:49:27.944373Z",
     "start_time": "2023-04-09T20:49:27.941038Z"
    }
   },
   "outputs": [
    {
     "name": "stdout",
     "output_type": "stream",
     "text": [
      "aic_c for linear model: -0.802675915269776\n"
     ]
    }
   ],
   "source": [
    "aic_c_lr = aic_criterion_c(y_true = y, y_pred = pred, n_params = 3)\n",
    "print(f'aic_c for linear model: {aic_c_lr}')"
   ]
  },
  {
   "cell_type": "code",
   "execution_count": 70,
   "metadata": {
    "ExecuteTime": {
     "end_time": "2023-04-09T20:51:11.272870Z",
     "start_time": "2023-04-09T20:51:11.268856Z"
    }
   },
   "outputs": [
    {
     "name": "stdout",
     "output_type": "stream",
     "text": [
      "aic_c for elastic linear model: 1.505363812024779\n"
     ]
    }
   ],
   "source": [
    "aic_c_elastic = aic_criterion_c(y_true = y, y_pred = pred_elastic, n_params = 3)\n",
    "print(f'aic_c for elastic linear model: {aic_c_elastic}')"
   ]
  },
  {
   "cell_type": "markdown",
   "metadata": {},
   "source": [
    "Видим, что первая модель регрессии более предпочтительна, чем вторая. "
   ]
  },
  {
   "attachments": {},
   "cell_type": "markdown",
   "metadata": {},
   "source": [
    "## Q2:  More advanced. Implement Mallow’s Cₚ criterion:\n",
    "\n",
    "Wiki defenition of Mallows $C_p$:\n",
    "\n",
    "$C_{p}={\\frac {1}{n}}(\\operatorname{RSS} +2p{\\hat\\sigma}^{2})$"
   ]
  },
  {
   "cell_type": "code",
   "execution_count": 75,
   "metadata": {
    "ExecuteTime": {
     "end_time": "2023-04-09T22:10:45.322873Z",
     "start_time": "2023-04-09T22:10:45.319256Z"
    }
   },
   "outputs": [],
   "source": [
    "def mallow_c(y_true: np.ndarray, y_pred: np.ndarray, n_params: int) -> float:\n",
    "    n = y_pred.shape[0]\n",
    "    rss = np.sum((y_pred - y_true)**2)\n",
    "    sigma_est = y_pred.std()\n",
    "    return (1/n)*(rss + 2*(n_params - 1)*sigma_est**2)"
   ]
  },
  {
   "cell_type": "code",
   "execution_count": 76,
   "metadata": {
    "ExecuteTime": {
     "end_time": "2023-04-09T22:13:25.856745Z",
     "start_time": "2023-04-09T22:13:25.852506Z"
    }
   },
   "outputs": [
    {
     "name": "stdout",
     "output_type": "stream",
     "text": [
      "mallow for linear model: 0.16772518409905626\n"
     ]
    }
   ],
   "source": [
    "mallow = mallow_c(y_true = y, y_pred = pred, n_params = 3)\n",
    "print(f'mallow for linear model: {mallow}')"
   ]
  },
  {
   "cell_type": "code",
   "execution_count": 77,
   "metadata": {
    "ExecuteTime": {
     "end_time": "2023-04-09T22:13:28.013334Z",
     "start_time": "2023-04-09T22:13:28.010129Z"
    }
   },
   "outputs": [
    {
     "name": "stdout",
     "output_type": "stream",
     "text": [
      "mallow for elastic linear model: 1.6428658492187092\n"
     ]
    }
   ],
   "source": [
    "mallow_elastic = mallow_c(y_true = y, y_pred = pred_elastic, n_params = 3)\n",
    "print(f'mallow for elastic linear model: {mallow_elastic}')"
   ]
  },
  {
   "cell_type": "markdown",
   "metadata": {},
   "source": [
    "## Q3: There is also BIC criteria. Can you recommend when to use AIC vs BIC and vice versa?\n"
   ]
  },
  {
   "cell_type": "markdown",
   "metadata": {},
   "source": [
    "AIC и BIC предназначены для разных вещей.\n",
    "\n",
    "AIC в основном подходит для ситуации, когда не обязательно предполагается, что существует «модель», а есть набор эффектов разного размера, и мы бы хотели получить хорошую ошибку прогнозов. Таким образом, по мере увеличения размера выборки выбор модели AIC также расширяется, поскольку становятся актуальными все меньшие и меньшие эффекты (в том смысле, что их включение в среднем лучше, чем их исключение).\n",
    "\n",
    "BIC, с другой стороны, в основном предполагает, что модель находится в наборе кандидатов, и необходимо ее найти. BIC имеет тенденцию выделять одну модель по мере роста числа наблюдений, AIC этого не делает. В результате, при увеличении размера выборки, AIC имеет тенденцию выбирать несколько более параметрически большие модели, чем BIC. "
   ]
  },
  {
   "cell_type": "code",
   "execution_count": null,
   "metadata": {},
   "outputs": [],
   "source": []
  }
 ],
 "metadata": {
  "kernelspec": {
   "display_name": "Python 3 (ipykernel)",
   "language": "python",
   "name": "python3"
  },
  "language_info": {
   "codemirror_mode": {
    "name": "ipython",
    "version": 3
   },
   "file_extension": ".py",
   "mimetype": "text/x-python",
   "name": "python",
   "nbconvert_exporter": "python",
   "pygments_lexer": "ipython3",
   "version": "3.7.3"
  },
  "vscode": {
   "interpreter": {
    "hash": "916dbcbb3f70747c44a77c7bcd40155683ae19c65e1c03b4aa3499c5328201f1"
   }
  }
 },
 "nbformat": 4,
 "nbformat_minor": 1
}
